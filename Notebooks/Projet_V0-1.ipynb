{
 "cells": [
  {
   "cell_type": "markdown",
   "metadata": {},
   "source": [
    "# Projet - Classification de documents d'opinions\n",
    "---\n",
    "- Un jeu de données textuelles est mis à disposition sur Moodle.  \n",
    "- Il s'agit d'un corpus d'à peu près 8000 documents contenant des avis d'internautes sur des films.  \n",
    "- A chaque document est associé sa polarité selon l'avis (+1 : positif, -1 : négatif).  \n",
    "- Le fichier des documents est formaté dans un tableau cvs (un avis par ligne), un autre fichier csv contient les polarités d'avis par document (- 1/+1).  \n",
    "- Une correspondance directe existe entre les numéros des lignes des documents et des polarités."
   ]
  },
  {
   "cell_type": "markdown",
   "metadata": {},
   "source": [
    "## Configuration de l'environnement\n",
    "---"
   ]
  },
  {
   "cell_type": "code",
   "execution_count": 1,
   "metadata": {},
   "outputs": [],
   "source": [
    "import pandas as pd\n",
    "import numpy as np\n",
    "\n",
    "from collections import defaultdict\n",
    "\n",
    "from nltk import pos_tag\n",
    "from nltk import punkt\n",
    "from nltk.corpus import stopwords, wordnet as wn\n",
    "from nltk.tokenize import word_tokenize\n",
    "from nltk.stem import WordNetLemmatizer\n",
    "\n",
    "from sklearn import model_selection, naive_bayes, svm\n",
    "from sklearn.preprocessing import LabelEncoder\n",
    "from sklearn.feature_extraction.text import TfidfVectorizer\n",
    "from sklearn.metrics import accuracy_score\n",
    "from sklearn.utils import shuffle\n",
    "\n",
    "##### UNCOMMENT THIS SECTION IF FIRT TIME RUNNING\n",
    "#import nltk\n",
    "#nltk.download('wordnet')\n",
    "#nltk.download('stopwords')\n",
    "#nltk.download('word_tokenize')\n",
    "#nltk.download('averaged_perceptron_tagger')\n",
    "#####\n",
    "\n",
    "# Set seed for random results base calculation\n",
    "np.random.seed(500)\n",
    "\n",
    "import seaborn as sns\n",
    "sns.set(style = \"darkgrid\")"
   ]
  },
  {
   "cell_type": "markdown",
   "metadata": {},
   "source": [
    "## Lecture des fichiers\n",
    "---\n",
    "\n",
    "- Récupération du fichier dataset.csv et labels.csv\n",
    "- Intégration de leur contenu dans 2 dataframes pandas différents"
   ]
  },
  {
   "cell_type": "code",
   "execution_count": 2,
   "metadata": {},
   "outputs": [
    {
     "name": "stdout",
     "output_type": "stream",
     "text": [
      "\n",
      "Dataframe des avis\n"
     ]
    },
    {
     "data": {
      "text/html": [
       "<div>\n",
       "<style scoped>\n",
       "    .dataframe tbody tr th:only-of-type {\n",
       "        vertical-align: middle;\n",
       "    }\n",
       "\n",
       "    .dataframe tbody tr th {\n",
       "        vertical-align: top;\n",
       "    }\n",
       "\n",
       "    .dataframe thead th {\n",
       "        text-align: right;\n",
       "    }\n",
       "</style>\n",
       "<table border=\"1\" class=\"dataframe\">\n",
       "  <thead>\n",
       "    <tr style=\"text-align: right;\">\n",
       "      <th></th>\n",
       "      <th>Avis</th>\n",
       "    </tr>\n",
       "  </thead>\n",
       "  <tbody>\n",
       "    <tr>\n",
       "      <th>0</th>\n",
       "      <td>Obviously made to show famous 1950s stripper M...</td>\n",
       "    </tr>\n",
       "    <tr>\n",
       "      <th>1</th>\n",
       "      <td>This film was more effective in persuading me ...</td>\n",
       "    </tr>\n",
       "    <tr>\n",
       "      <th>2</th>\n",
       "      <td>Unless you are already familiar with the pop s...</td>\n",
       "    </tr>\n",
       "    <tr>\n",
       "      <th>3</th>\n",
       "      <td>From around the time Europe began fighting Wor...</td>\n",
       "    </tr>\n",
       "    <tr>\n",
       "      <th>4</th>\n",
       "      <td>Im not surprised that even cowgirls get the bl...</td>\n",
       "    </tr>\n",
       "  </tbody>\n",
       "</table>\n",
       "</div>"
      ],
      "text/plain": [
       "                                                Avis\n",
       "0  Obviously made to show famous 1950s stripper M...\n",
       "1  This film was more effective in persuading me ...\n",
       "2  Unless you are already familiar with the pop s...\n",
       "3  From around the time Europe began fighting Wor...\n",
       "4  Im not surprised that even cowgirls get the bl..."
      ]
     },
     "metadata": {},
     "output_type": "display_data"
    },
    {
     "data": {
      "text/plain": [
       "(10000, 1)"
      ]
     },
     "metadata": {},
     "output_type": "display_data"
    },
    {
     "name": "stdout",
     "output_type": "stream",
     "text": [
      "\n",
      "Dataframe des scores\n"
     ]
    },
    {
     "data": {
      "text/html": [
       "<div>\n",
       "<style scoped>\n",
       "    .dataframe tbody tr th:only-of-type {\n",
       "        vertical-align: middle;\n",
       "    }\n",
       "\n",
       "    .dataframe tbody tr th {\n",
       "        vertical-align: top;\n",
       "    }\n",
       "\n",
       "    .dataframe thead th {\n",
       "        text-align: right;\n",
       "    }\n",
       "</style>\n",
       "<table border=\"1\" class=\"dataframe\">\n",
       "  <thead>\n",
       "    <tr style=\"text-align: right;\">\n",
       "      <th></th>\n",
       "      <th>Score</th>\n",
       "    </tr>\n",
       "  </thead>\n",
       "  <tbody>\n",
       "    <tr>\n",
       "      <th>0</th>\n",
       "      <td>-1</td>\n",
       "    </tr>\n",
       "    <tr>\n",
       "      <th>1</th>\n",
       "      <td>-1</td>\n",
       "    </tr>\n",
       "    <tr>\n",
       "      <th>2</th>\n",
       "      <td>-1</td>\n",
       "    </tr>\n",
       "    <tr>\n",
       "      <th>3</th>\n",
       "      <td>-1</td>\n",
       "    </tr>\n",
       "    <tr>\n",
       "      <th>4</th>\n",
       "      <td>-1</td>\n",
       "    </tr>\n",
       "  </tbody>\n",
       "</table>\n",
       "</div>"
      ],
      "text/plain": [
       "   Score\n",
       "0     -1\n",
       "1     -1\n",
       "2     -1\n",
       "3     -1\n",
       "4     -1"
      ]
     },
     "metadata": {},
     "output_type": "display_data"
    },
    {
     "data": {
      "text/plain": [
       "(10000, 1)"
      ]
     },
     "metadata": {},
     "output_type": "display_data"
    },
    {
     "name": "stdout",
     "output_type": "stream",
     "text": [
      "\n",
      "Dataframe merged\n"
     ]
    },
    {
     "data": {
      "text/html": [
       "<div>\n",
       "<style scoped>\n",
       "    .dataframe tbody tr th:only-of-type {\n",
       "        vertical-align: middle;\n",
       "    }\n",
       "\n",
       "    .dataframe tbody tr th {\n",
       "        vertical-align: top;\n",
       "    }\n",
       "\n",
       "    .dataframe thead th {\n",
       "        text-align: right;\n",
       "    }\n",
       "</style>\n",
       "<table border=\"1\" class=\"dataframe\">\n",
       "  <thead>\n",
       "    <tr style=\"text-align: right;\">\n",
       "      <th></th>\n",
       "      <th>Avis</th>\n",
       "      <th>Score</th>\n",
       "    </tr>\n",
       "  </thead>\n",
       "  <tbody>\n",
       "    <tr>\n",
       "      <th>0</th>\n",
       "      <td>Obviously made to show famous 1950s stripper M...</td>\n",
       "      <td>-1</td>\n",
       "    </tr>\n",
       "    <tr>\n",
       "      <th>1</th>\n",
       "      <td>This film was more effective in persuading me ...</td>\n",
       "      <td>-1</td>\n",
       "    </tr>\n",
       "    <tr>\n",
       "      <th>2</th>\n",
       "      <td>Unless you are already familiar with the pop s...</td>\n",
       "      <td>-1</td>\n",
       "    </tr>\n",
       "    <tr>\n",
       "      <th>3</th>\n",
       "      <td>From around the time Europe began fighting Wor...</td>\n",
       "      <td>-1</td>\n",
       "    </tr>\n",
       "    <tr>\n",
       "      <th>4</th>\n",
       "      <td>Im not surprised that even cowgirls get the bl...</td>\n",
       "      <td>-1</td>\n",
       "    </tr>\n",
       "  </tbody>\n",
       "</table>\n",
       "</div>"
      ],
      "text/plain": [
       "                                                Avis  Score\n",
       "0  Obviously made to show famous 1950s stripper M...     -1\n",
       "1  This film was more effective in persuading me ...     -1\n",
       "2  Unless you are already familiar with the pop s...     -1\n",
       "3  From around the time Europe began fighting Wor...     -1\n",
       "4  Im not surprised that even cowgirls get the bl...     -1"
      ]
     },
     "metadata": {},
     "output_type": "display_data"
    },
    {
     "data": {
      "text/plain": [
       "(10000, 2)"
      ]
     },
     "metadata": {},
     "output_type": "display_data"
    }
   ],
   "source": [
    "print(\"\\nDataframe des avis\")\n",
    "df_avis = pd.read_csv('Dataset/dataset.csv', sep = '\\t', header = None, names = ['Avis'], encoding ='utf8')\n",
    "display(df_avis.head())\n",
    "display(df_avis.shape)\n",
    "\n",
    "print(\"\\nDataframe des scores\")\n",
    "df_score = pd.read_csv('Dataset/labels.csv', sep = '\\t', header = None, names = ['Score'], encoding ='utf8')\n",
    "display(df_score.head())\n",
    "display(df_score.shape)\n",
    "\n",
    "print(\"\\nDataframe merged\")\n",
    "df = df_avis.join(df_score)\n",
    "display(df.head())\n",
    "display(df.shape)"
   ]
  },
  {
   "cell_type": "markdown",
   "metadata": {},
   "source": [
    "## Pré-traitement des données\n",
    "---\n",
    "\n",
    "Structuration des données afin d'y réaliser des manipulations"
   ]
  },
  {
   "cell_type": "markdown",
   "metadata": {},
   "source": [
    "### Tokenization"
   ]
  },
  {
   "cell_type": "code",
   "execution_count": 3,
   "metadata": {},
   "outputs": [
    {
     "data": {
      "text/html": [
       "<div>\n",
       "<style scoped>\n",
       "    .dataframe tbody tr th:only-of-type {\n",
       "        vertical-align: middle;\n",
       "    }\n",
       "\n",
       "    .dataframe tbody tr th {\n",
       "        vertical-align: top;\n",
       "    }\n",
       "\n",
       "    .dataframe thead th {\n",
       "        text-align: right;\n",
       "    }\n",
       "</style>\n",
       "<table border=\"1\" class=\"dataframe\">\n",
       "  <thead>\n",
       "    <tr style=\"text-align: right;\">\n",
       "      <th></th>\n",
       "      <th>Avis</th>\n",
       "      <th>Score</th>\n",
       "    </tr>\n",
       "  </thead>\n",
       "  <tbody>\n",
       "    <tr>\n",
       "      <th>0</th>\n",
       "      <td>After having read two or three negative review...</td>\n",
       "      <td>1</td>\n",
       "    </tr>\n",
       "    <tr>\n",
       "      <th>1</th>\n",
       "      <td>I recently (May 2008) discovered that this chi...</td>\n",
       "      <td>1</td>\n",
       "    </tr>\n",
       "    <tr>\n",
       "      <th>2</th>\n",
       "      <td>Pathetic is the word. Bad acting, pathetic scr...</td>\n",
       "      <td>-1</td>\n",
       "    </tr>\n",
       "    <tr>\n",
       "      <th>3</th>\n",
       "      <td>Spencer Tracy and Katherine Hepburn would roll...</td>\n",
       "      <td>-1</td>\n",
       "    </tr>\n",
       "    <tr>\n",
       "      <th>4</th>\n",
       "      <td>This in my opinion is one of the best action m...</td>\n",
       "      <td>1</td>\n",
       "    </tr>\n",
       "  </tbody>\n",
       "</table>\n",
       "</div>"
      ],
      "text/plain": [
       "                                                Avis  Score\n",
       "0  After having read two or three negative review...      1\n",
       "1  I recently (May 2008) discovered that this chi...      1\n",
       "2  Pathetic is the word. Bad acting, pathetic scr...     -1\n",
       "3  Spencer Tracy and Katherine Hepburn would roll...     -1\n",
       "4  This in my opinion is one of the best action m...      1"
      ]
     },
     "metadata": {},
     "output_type": "display_data"
    }
   ],
   "source": [
    "# Copie du DF originale\n",
    "df2 = shuffle(df)\n",
    "# Réinitialisation des index\n",
    "#df2.reset_index()\n",
    "df2.reset_index(inplace = True, \n",
    "                drop = True)\n",
    "display(df2.head())"
   ]
  },
  {
   "cell_type": "code",
   "execution_count": 4,
   "metadata": {},
   "outputs": [
    {
     "data": {
      "text/html": [
       "<div>\n",
       "<style scoped>\n",
       "    .dataframe tbody tr th:only-of-type {\n",
       "        vertical-align: middle;\n",
       "    }\n",
       "\n",
       "    .dataframe tbody tr th {\n",
       "        vertical-align: top;\n",
       "    }\n",
       "\n",
       "    .dataframe thead th {\n",
       "        text-align: right;\n",
       "    }\n",
       "</style>\n",
       "<table border=\"1\" class=\"dataframe\">\n",
       "  <thead>\n",
       "    <tr style=\"text-align: right;\">\n",
       "      <th></th>\n",
       "      <th>Avis</th>\n",
       "      <th>Score</th>\n",
       "    </tr>\n",
       "  </thead>\n",
       "  <tbody>\n",
       "    <tr>\n",
       "      <th>0</th>\n",
       "      <td>[Obviously, made, to, show, famous, 1950s, str...</td>\n",
       "      <td>1</td>\n",
       "    </tr>\n",
       "    <tr>\n",
       "      <th>1</th>\n",
       "      <td>[This, film, was, more, effective, in, persuad...</td>\n",
       "      <td>1</td>\n",
       "    </tr>\n",
       "    <tr>\n",
       "      <th>2</th>\n",
       "      <td>[Unless, you, are, already, familiar, with, th...</td>\n",
       "      <td>-1</td>\n",
       "    </tr>\n",
       "    <tr>\n",
       "      <th>3</th>\n",
       "      <td>[From, around, the, time, Europe, began, fight...</td>\n",
       "      <td>-1</td>\n",
       "    </tr>\n",
       "    <tr>\n",
       "      <th>4</th>\n",
       "      <td>[Im, not, surprised, that, even, cowgirls, get...</td>\n",
       "      <td>1</td>\n",
       "    </tr>\n",
       "  </tbody>\n",
       "</table>\n",
       "</div>"
      ],
      "text/plain": [
       "                                                Avis  Score\n",
       "0  [Obviously, made, to, show, famous, 1950s, str...      1\n",
       "1  [This, film, was, more, effective, in, persuad...      1\n",
       "2  [Unless, you, are, already, familiar, with, th...     -1\n",
       "3  [From, around, the, time, Europe, began, fight...     -1\n",
       "4  [Im, not, surprised, that, even, cowgirls, get...      1"
      ]
     },
     "metadata": {},
     "output_type": "display_data"
    }
   ],
   "source": [
    "# Change all characters to lower case\n",
    "df2['Avis'] = [entry.lower() for entry in df['Avis']]\n",
    "\n",
    "# Tokenization\n",
    "df2['Avis'] = [word_tokenize(entry) for entry in df['Avis']]\n",
    "\n",
    "display(df2.head())"
   ]
  },
  {
   "cell_type": "markdown",
   "metadata": {},
   "source": [
    "### Lemmatization"
   ]
  },
  {
   "cell_type": "code",
   "execution_count": 5,
   "metadata": {},
   "outputs": [
    {
     "data": {
      "text/html": [
       "<div>\n",
       "<style scoped>\n",
       "    .dataframe tbody tr th:only-of-type {\n",
       "        vertical-align: middle;\n",
       "    }\n",
       "\n",
       "    .dataframe tbody tr th {\n",
       "        vertical-align: top;\n",
       "    }\n",
       "\n",
       "    .dataframe thead th {\n",
       "        text-align: right;\n",
       "    }\n",
       "</style>\n",
       "<table border=\"1\" class=\"dataframe\">\n",
       "  <thead>\n",
       "    <tr style=\"text-align: right;\">\n",
       "      <th></th>\n",
       "      <th>Avis</th>\n",
       "      <th>Score</th>\n",
       "    </tr>\n",
       "  </thead>\n",
       "  <tbody>\n",
       "    <tr>\n",
       "      <th>0</th>\n",
       "      <td>['Obviously', 'make', 'show', 'famous', 'strip...</td>\n",
       "      <td>1</td>\n",
       "    </tr>\n",
       "    <tr>\n",
       "      <th>1</th>\n",
       "      <td>['This', 'film', 'effective', 'persuade', 'Zio...</td>\n",
       "      <td>1</td>\n",
       "    </tr>\n",
       "    <tr>\n",
       "      <th>2</th>\n",
       "      <td>['Unless', 'already', 'familiar', 'pop', 'star...</td>\n",
       "      <td>-1</td>\n",
       "    </tr>\n",
       "    <tr>\n",
       "      <th>3</th>\n",
       "      <td>['From', 'around', 'time', 'Europe', 'begin', ...</td>\n",
       "      <td>-1</td>\n",
       "    </tr>\n",
       "    <tr>\n",
       "      <th>4</th>\n",
       "      <td>['Im', 'surprise', 'even', 'cowgirls', 'get', ...</td>\n",
       "      <td>1</td>\n",
       "    </tr>\n",
       "  </tbody>\n",
       "</table>\n",
       "</div>"
      ],
      "text/plain": [
       "                                                Avis  Score\n",
       "0  ['Obviously', 'make', 'show', 'famous', 'strip...      1\n",
       "1  ['This', 'film', 'effective', 'persuade', 'Zio...      1\n",
       "2  ['Unless', 'already', 'familiar', 'pop', 'star...     -1\n",
       "3  ['From', 'around', 'time', 'Europe', 'begin', ...     -1\n",
       "4  ['Im', 'surprise', 'even', 'cowgirls', 'get', ...      1"
      ]
     },
     "metadata": {},
     "output_type": "display_data"
    }
   ],
   "source": [
    "# Lemmenting\n",
    "\n",
    "## liste d'étiquettes\n",
    "tag_map = defaultdict(lambda : wn.NOUN)\n",
    "tag_map['J'] = wn.ADJ\n",
    "tag_map['V'] = wn.VERB\n",
    "tag_map['R'] = wn.ADV\n",
    "\n",
    "# version rapide\n",
    "#df2_small = df2.iloc[:100]\n",
    "\n",
    "for index, entry in enumerate(df2['Avis']):\n",
    "    final_words = []\n",
    "    word_lem = WordNetLemmatizer()\n",
    "    for word, tag in pos_tag(entry):\n",
    "        if word not in stopwords.words('english') and word.isalpha():\n",
    "            word_final = word_lem.lemmatize(word, tag_map[tag[0]])\n",
    "            final_words.append(word_final)\n",
    "    df2.loc[index, 'Avis'] = str(final_words)\n",
    "\n",
    "display(df2.head())"
   ]
  },
  {
   "cell_type": "markdown",
   "metadata": {},
   "source": [
    "### Checkpoint "
   ]
  },
  {
   "cell_type": "code",
   "execution_count": 6,
   "metadata": {},
   "outputs": [],
   "source": [
    "df3 = df2\n",
    "# manipulation de df3 par la suite"
   ]
  },
  {
   "cell_type": "markdown",
   "metadata": {},
   "source": [
    "### Train/Test Data sets"
   ]
  },
  {
   "cell_type": "code",
   "execution_count": 7,
   "metadata": {},
   "outputs": [],
   "source": [
    "Train_X, Test_X, Train_Y, Test_Y = model_selection.train_test_split(df3['Avis'],\n",
    "                                                                  df3['Score'],\n",
    "                                                                  test_size = 0.3)"
   ]
  },
  {
   "cell_type": "markdown",
   "metadata": {},
   "source": [
    "### Encoding"
   ]
  },
  {
   "cell_type": "code",
   "execution_count": 8,
   "metadata": {},
   "outputs": [],
   "source": [
    "Encoder = LabelEncoder()\n",
    "Train_Y = Encoder.fit_transform(Train_Y)\n",
    "Test_Y = Encoder.fit_transform(Test_Y)\n",
    "#Train_X = Encoder.fit_transform(Train_X)\n",
    "#Test_X = Encoder.fit_transform(Test_X)"
   ]
  },
  {
   "cell_type": "markdown",
   "metadata": {},
   "source": [
    "### Word Vectorization"
   ]
  },
  {
   "cell_type": "code",
   "execution_count": 9,
   "metadata": {},
   "outputs": [
    {
     "name": "stdout",
     "output_type": "stream",
     "text": [
      "{'obviously': 3090, 'make': 2715, 'show': 4002, 'famous': 1650, 'act': 47, 'talent': 4390, 'too': 4536, 'bad': 340, 'ca': 616, 'little': 2623, 'tale': 4389, 'sweet': 4365, 'innocent': 2300, 'sally': 3826, 'down': 1329, 'drug': 1362, 'force': 1775, 'white': 4883, 'then': 4458, 'meet': 2794, 'likable': 2601, 'tommy': 4529, 'cole': 850, 'instantly': 2319, 'fall': 1645, 'love': 2665, 'he': 2060, 'want': 4809, 'help': 2087, 'escape': 1521, 'you': 4986, 'really': 3589, 'wo': 4929, 'real': 3583, 'skin': 4060, 'strip': 4267, 'slowly': 4082, 'underwear': 4657, 'twice': 4625, 'the': 4452, 'rest': 3701, 'boring': 506, 'acting': 48, 'atrocious': 291, 'comedy': 872, 'never': 3009, 'think': 4470, 'funny': 1843, 'know': 2497, 'terrible': 4435, 'dialogue': 1234, 'admit': 71, 'twist': 4627, 'end': 1474, 'see': 3902, 'come': 868, 'enough': 1493, 'sit': 4051, 'also': 148, 'attempt': 295, 'hysterical': 2193, 'bomb': 494, 'avoid': 320, 'this': 4474, 'film': 1711, 'effective': 1425, 'persuade': 3277, 'conspiracy': 949, 'muslim': 2948, 'one': 3123, 'and': 180, 'go': 1922, 'school': 3862, 'read': 3579, 'year': 4975, 'these': 4463, 'present': 3415, 'way': 4835, 'might': 2833, 'prove': 3486, 'but': 607, 'offer': 3106, 'possible': 3380, 'oppose': 3135, 'argument': 244, 'solution': 4112, 'source': 4135, 'dubious': 1369, 'origin': 3146, 'thank': 4447, 'goodness': 1933, 'would': 4957, 'anyone': 216, 'leave': 2562, 'theatre': 4454, 'racist': 3540, 'good': 1932, 'lesson': 2582, 'hopefully': 2148, 'actually': 55, 'unless': 4684, 'already': 146, 'familiar': 1648, 'pop': 3363, 'star': 4203, 'save': 3846, 'time': 4508, 'stop': 4243, 'reading': 3581, 'review': 3716, 'reach': 3576, 'next': 3017, 'ever': 1545, 'upon': 4703, 'watch': 4828, 'something': 4119, 'insist': 2309, 'consider': 943, 'lame': 2519, 'vehicle': 4738, 'japanese': 2396, 'teen': 4418, 'feature': 1681, 'nonsensical': 3047, 'plot': 3338, 'drag': 1338, 'amount': 170, 'ready': 3582, 'sense': 3918, 'it': 2380, 'endless': 1477, 'series': 3933, 'people': 3258, 'express': 1612, 'various': 4734, 'emotion': 1460, 'joy': 2439, 'anger': 190, 'happiness': 2034, 'tragedy': 4565, 'for': 1773, 'no': 3033, 'reason': 3592, 'we': 4837, 'incredibly': 2263, 'dramatic': 1343, 'happen': 2030, 'give': 1907, 'crap': 1025, 'why': 4890, 'sick': 4010, 'tired': 4517, 'stupid': 4281, 'face': 1627, 'revolt': 3719, 'spend': 4160, 'smile': 4087, 'cry': 1066, 'look': 2647, 'mysterious': 2956, 'serious': 3934, 'pointless': 3347, 'expression': 1613, 'slap': 4066, 'moron': 2911, 'far': 1655, 'refer': 3620, 'piece': 3306, 'insipid': 2308, 'trash': 4582, 'soul': 4131, 'actor': 51, 'beyond': 434, 'shadow': 3956, 'doubt': 1327, 'trailer': 4568, 'countless': 1009, 'adore': 76, 'comment': 880, 'site': 4053, 'tell': 4423, 'only': 3125, 'convert': 976, 'mindless': 2850, 'like': 2602, 'majority': 2714, 'teenage': 4419, 'girl': 1904, 'anything': 217, 'field': 1702, 'fan': 1651, 'stay': 4218, 'hell': 2083, 'away': 326, 'abomination': 5, 'from': 1828, 'around': 251, 'europe': 1535, 'begin': 402, 'fight': 1705, 'world': 4946, 'war': 4810, 'ii': 2209, 'hollywood': 2130, 'significant': 4019, 'government': 1941, 'ton': 4531, 'movie': 2927, 'design': 1207, 'try': 4613, 'get': 1896, 'young': 4987, 'men': 2806, 'army': 249, 'life': 2595, 'appear': 229, 'cool': 984, 'sloppy': 4080, 'imply': 2235, 'soldier': 4107, 'devoid': 1231, 'work': 4943, 'best': 425, 'food': 1768, 'lie': 2594, 'day': 1127, 'listen': 2619, 'ann': 199, 'miller': 2845, 'radio': 3541, 'participate': 3224, 'wwii': 4970, 'there': 4461, 'bare': 356, 'cat': 686, 'bunch': 593, 'musical': 2946, 'number': 3073, 'leading': 2556, 'even': 1540, 'naive': 2962, 'wacky': 4791, 'portray': 3372, 'while': 4878, 'sure': 4339, 'mean': 2781, 'view': 4760, 'entertainment': 1501, 'wonder': 4933, 'family': 1649, 'amuse': 172, 'loved': 2666, 'sacrifice': 3814, 'im': 2217, 'surprise': 4344, 'blue': 481, 'expect': 1590, 'well': 4854, 'suffer': 4306, 'experience': 1595, 'first': 1730, 'place': 3319, 'an': 176, 'awful': 329, 'music': 2945, 'redeeming': 3613, 'quality': 3521, 'its': 2384, 'shame': 3963, 'deserve': 1206, 'find': 1723, 'useful': 4713, 'count': 1006, 'sucker': 4302, 'image': 2218, 'much': 2934, 'hollow': 2128, 'behind': 407, 'che': 741, 'charisma': 731, 'iconic': 2197, 'spread': 4180, 'propaganda': 3477, 'capture': 655, 'hour': 2166, 'typically': 4633, 'garbage': 1862, 'question': 3526, 'take': 4387, 'long': 2645, 'by': 615, 'course': 1015, 'secret': 3895, 'castro': 685, 'pick': 3302, 'fascinate': 1662, 'decade': 1141, 'least': 2561, 'talented': 4391, 'liberal': 2591, 'director': 1261, 'finally': 1720, 'bias': 435, 'project': 3469, 'where': 4874, 'oliver': 3117, 'stone': 4241, 'robert': 3761, 'tim': 4507, 'robbins': 3760, 'warren': 4820, 'beatty': 388, 'alan': 119, 'george': 1889, 'barbra': 355, 'streisand': 4259, 'mystery': 2957, 'all': 136, 'artist': 261, 'often': 3111, 'indulge': 2274, 'similar': 4025, 'politically': 3356, 'yet': 4982, 'somehow': 4117, 'guevara': 1992, 'arguably': 242, 'popular': 3365, 'communist': 886, 'topic': 4539, 'hallmark': 2014, 'american': 166, 'story': 4246, 'epic': 1510, 'scale': 3850, 'detail': 1221, 'political': 3355, 'gandhi': 1858, 'almost': 142, 'none': 3044, 'del': 1165, 'revolutionary': 3721, 'nevertheless': 3010, 'however': 2172, 'controversial': 972, 'criminal': 1046, 'man': 2722, 'action': 49, 'may': 2776, 'thing': 4468, 'nobody': 3035, 'could': 1005, 'intelligent': 2328, 'rich': 3730, 'fit': 1736, 'bill': 442, 'visually': 4778, 'interesting': 2339, 'charismatic': 732, 'resemble': 3687, 'physically': 3300, 'intellectual': 2326, 'whatsoever': 4870, 'hence': 2088, 'primitive': 3438, 'casting': 683, 'lack': 2515, 'sound': 4132, 'part': 3222, 'extremely': 1622, 'slow': 4081, 'uninteresting': 4674, 'brilliant': 556, 'kubrick': 2504, 'carefully': 662, 'release': 3645, 'mark': 2742, 'quite': 3533, 'telling': 4424, 'soderbergh': 4105, 'two': 4629, 'solid': 4110, 'early': 1395, 'career': 660, 'his': 2114, 'task': 4401, 'if': 2205, 'length': 2573, 'indicate': 2270, 'focus': 1760, 'last': 2530, 'phase': 3284, 'lot': 2657, 'tedious': 4417, 'jungle': 2450, 'nonsense': 3046, 'full': 1836, 'ideal': 2199, 'kind': 2484, 'mind': 2849, 'highly': 2103, 'choose': 769, 'ignore': 2208, 'did': 1241, 'massacre': 2760, 'hold': 2125, 'interest': 2337, 'viewer': 4761, 'huh': 2177, 'amazing': 161, 'some': 4114, 'easily': 1399, 'complete': 900, 'biography': 447, 'become': 393, 'address': 66, 'negative': 2995, 'dark': 1113, 'side': 4012, 'historical': 2116, 'inaccuracy': 2249, 'ugly': 4635, 'truth': 4612, 'god': 1924, 'holy': 2132, 'fake': 1643, 'personality': 3274, 'struggle': 4272, 'hard': 2036, 'opposite': 3136, 'care': 659, 'idea': 2198, 'test': 4443, 'pig': 3308, 'term': 4434, 'supposedly': 4338, 'student': 4273, 'wear': 4843, 'red': 3611, 'orange': 3140, 'shirt': 3984, 'without': 4925, 'figure': 1708, 'clueless': 840, 'chest': 752, 'edgy': 1412, 'hip': 2111, 'in': 2247, 'reality': 3587, 'overall': 3173, 'total': 4545, 'person': 3271, 'start': 4210, 'advertise': 82, 'clich': 816, 'common': 884, 'simpson': 4033, 'coffee': 846, 'cup': 1076, 'probably': 3450, 'hair': 2009, 'dead': 1130, 'everything': 1550, 'do': 1304, 'name': 2964, 'lay': 2550, 'seem': 3906, 'mankind': 2730, 'learn': 2560, 'kim': 2483, 'pot': 3384, 'iron': 2367, 'hundred': 2185, 'million': 2846, 'billion': 443, 'ruin': 3801, 'mentally': 2810, 'system': 4377, 'matter': 2771, 'fact': 1629, 'award': 323, 'absolutely': 12, 'european': 1536, 'festival': 1694, 'vote': 4788, 'hint': 2110, 'sean': 3887, 'penn': 3256, 'head': 2061, 'jury': 2453, 'rant': 3560, 'http': 2173, 'flick': 1749, 'still': 4233, 'disappointed': 1268, 'opening': 3128, 'scene': 3857, 'promise': 3471, 'keep': 2467, 'hook': 2145, 'half': 2011, 'till': 4506, 'kick': 2475, 'nothing': 3061, 'sort': 4130, 'point': 3346, 'thinking': 4471, 'made': 2695, 'aspect': 272, 'storyline': 4247, 'rambo': 3550, 'rating': 3569, 'simply': 4032, 'logic': 2636, 'perfect': 3262, 'waste': 4826, 'money': 2888, 'irritating': 2373, 'others': 3156, 'viewpoint': 4763, 'endure': 1478, 'definitely': 1160, 'cast': 682, 'character': 726, 'many': 2734, 'moment': 2887, 'unintentional': 4672, 'humor': 2182, 'kill': 2480, 'pierce': 3307, 'record': 3606, 'witch': 4922, 'drunk': 1364, 'hop': 2146, 'beat': 386, 'hit': 2119, 'bottle': 514, 'grab': 1942, 'hostage': 2163, 'victim': 4753, 'play': 3328, 'actress': 53, 'house': 2167, 'together': 4524, 'set': 3940, 'stooges': 4242, 'routine': 3792, 'beg': 401, 'possess': 3378, 'woman': 4931, 'instead': 2320, 'lead': 2554, 'elaborate': 1434, 'chase': 738, 'not': 3056, 'miss': 2869, 'christopher': 781, 'explanation': 1601, 'ancient': 179, 'they': 4464, 'body': 489, 'eternity': 1531, 'used': 4712, 'car': 656, 'soup': 4134, 'drive': 1356, 'walk': 4796, 'run': 3803, 'vomit': 4786, 'freak': 1810, 'usually': 4718, 'tv': 4622, 'main': 2709, 'value': 4729, 'root': 3785, 'approach': 235, 'depth': 1197, 'making': 2718, 'describe': 1203, 'suffice': 4309, 'say': 3849, 'pity': 3318, 'poor': 3361, 'camera': 632, 'minute': 2859, 'ago': 102, 'mainly': 2710, 'internet': 2342, 'cd': 696, 'realistic': 3586, 'flash': 1742, 'cartoon': 676, 'online': 3124, 'she': 3971, 'murder': 2937, 'someone': 4118, 'cause': 693, 'sister': 4050, 'crack': 1022, 'team': 4409, 'fbi': 1678, 'agent': 101, 'investigate': 2357, 'death': 1137, 'local': 2630, 'big': 438, 'city': 796, 'usa': 4710, 'though': 4479, 'claim': 800, 'madsen': 2698, 'credit': 1041, 'bang': 351, 'seemingly': 3907, 'apparent': 226, 'explain': 1600, 'frankly': 1809, 'final': 1718, 'treat': 4587, 'montage': 2895, 'honestly': 2140, 'effect': 1424, 'cross': 1057, 'eye': 1623, 'direction': 1259, 'michael': 2827, 'use': 4711, 'else': 1449, 'game': 1856, 'knife': 2493, 'hand': 2022, 'repeatedly': 3672, 'that': 4450, 'entertaining': 1500, 'walsh': 4802, 'level': 2587, 'block': 474, 'cyborg': 1090, 'different': 1244, 'role': 3773, 'useless': 4714, 'dialog': 1233, 'script': 3883, 'fail': 1634, 'completely': 901, 'inspire': 2313, 'true': 4609, 'unfortunately': 4666, 'need': 2993, 'box': 521, 'responsible': 3700, 'package': 3191, 'erotic': 1519, 'passion': 3236, 'forbidden': 1774, 'affair': 86, 'pleasure': 3335, 'picture': 3303, 'neil': 2999, 'patrick': 3244, 'harris': 2042, 'gun': 1998, 'involve': 2362, 'anne': 201, 'marry': 2748, 'gentleman': 1886, 'own': 3183, 'business': 604, 'edward': 1422, 'employee': 1469, 'husband': 2190, 'company': 889, 'shock': 3986, 'so': 4100, 'decide': 1143, 'live': 2625, 'wow': 4959, 'jealous': 2402, 'cover': 1018, 'new': 3011, 'territory': 4439, 'original': 3147, 'couple': 1013, 'briefly': 553, 'buff': 584, 'during': 1380, 'night': 3026, 'switch': 4368, 'channel': 721, 'embarrassment': 1455, 'what': 4867, 'remote': 3663, 'control': 971, 'david': 1122, 'keith': 2468, 'pathetic': 3241, 'anyway': 218, 'turn': 4620, 'near': 2983, 'must': 2950, 'college': 857, 'kid': 2476, 'bring': 558, 'home': 2134, 'straight': 4249, 'comic': 875, 'book': 499, 'cheap': 742, 'porn': 3368, 'call': 627, 'mother': 2916, 'kiss': 2489, 'father': 1672, 'oh': 3112, 'tongue': 4533, 'great': 1963, 'line': 2610, 'after': 94, 'bitch': 452, 'past': 3238, 'yes': 4980, 'surround': 4349, 'blow': 480, 'brain': 529, 'basically': 367, 'to': 4521, 'spoil': 4173, 'normal': 3050, 'everyday': 1548, 'street': 4258, 'follow': 1763, 'event': 1542, 'include': 2254, 'specifically': 4154, 'account': 35, 'horribly': 2155, 'write': 4964, 'nowhere': 3068, 'add': 61, 'writer': 4965, 'accomplish': 32, 'answer': 207, 'ask': 270, 'pass': 3231, 'area': 241, 'dimension': 1250, 'glass': 1912, 'at': 287, 'guy': 2001, 'boyfriend': 525, 'sadly': 3817, 'second': 3892, 'buy': 613, 'throw': 4493, 'right': 3742, 'hope': 2147, 'independent': 2266, 'horror': 2159, 'whole': 4886, 'zombie': 4996, 'general': 1876, 'are': 240, 'tree': 4589, 'cinematography': 791, 'period': 3269, 'actual': 54, 'such': 4300, 'otherwise': 3157, 'americans': 167, 'exact': 1559, 'reveal': 3712, 'back': 336, 'space': 4140, 'race': 3536, 'very': 4746, 'dumb': 1377, 'technology': 4415, 'crew': 1044, 'construction': 953, 'command': 878, 'available': 318, 'steel': 4222, 'entire': 1504, 'outer': 3163, 'surface': 4342, 'except': 1568, 'window': 4911, 'heat': 2073, 'bottom': 515, 'forward': 1794, 'material': 2768, 'charge': 730, 'suit': 4313, 'definite': 1159, 'problem': 3451, 'flight': 1750, 'risk': 3749, 'threat': 4484, 'astronaut': 285, 'pretty': 3425, 'brief': 552, 'passage': 3233, 'van': 4732, 'allen': 137, 'belt': 416, 'carry': 674, 'exactly': 1560, 'receive': 3598, 'less': 2581, 'of': 3101, 'fly': 1758, 'moon': 2901, 'land': 2521, 'alive': 135, 'die': 1242, 'cancer': 643, 'shepard': 3977, 'jack': 2386, 'bone': 497, 'heart': 2069, 'attack': 294, 'motorcycle': 2921, 'accident': 27, 'conrad': 939, 'group': 1984, 'late': 2531, 'version': 4744, 'dick': 1239, 'insult': 2322, 'audience': 304, 'base': 361, 'phony': 3292, 'chapter': 725, 'sentence': 3923, 'rather': 3568, 'addition': 64, 'john': 2426, 'barrymore': 360, 'perhaps': 3268, 'example': 1565, 'especially': 1522, 'change': 720, 'novel': 3065, 'chance': 719, 'beautiful': 389, 'poetic': 3343, 'language': 2526, 'hero': 2093, 'wooden': 4939, 'leg': 2566, 'standard': 4200, 'evil': 1555, 'brother': 569, 'summer': 4319, 'boast': 485, 'stinker': 4237, 'plane': 3323, 'da': 1093, 'code': 845, 'bold': 491, 'statement': 4213, 'stand': 4199, 'nonetheless': 3045, 'superman': 4331, 'king': 2486, 'kong': 2499, 'month': 2897, 'cgi': 712, 'my': 2954, 'stuff': 4276, 'special': 4151, 'appropriate': 236, 'brian': 548, 'singer': 4041, 'constantly': 951, 'remind': 3660, 'wannabe': 4808, 'blockbuster': 475, 'impress': 2241, 'totally': 4546, 'obnoxious': 3081, 'visual': 4777, 'hype': 2192, 'everywhere': 1551, 'atmosphere': 289, 'involvement': 2363, 'critic': 1050, 'human': 2178, 'scream': 3876, 'dozen': 1334, 'recent': 3599, 'regard': 3628, 'recycle': 3610, 'seriously': 3935, 'hammy': 2021, 'kevin': 2473, 'spacey': 4141, 'destroy': 1219, 'america': 165, 'amaze': 160, 'manage': 2723, 'draw': 1344, 'junk': 2452, 'painful': 3195, 'unbearable': 4642, 'screen': 3878, 'kate': 2464, 'unconvincing': 4647, 'journalist': 2437, 'james': 2392, 'usual': 4717, 'either': 1432, 'fire': 1727, 'acquire': 45, 'member': 2803, 'lovely': 2667, 'parker': 3220, 'soon': 4125, 'realise': 3584, 'maybe': 2777, 'warner': 4817, 'pile': 3309, 'resource': 3694, 'cost': 1002, 'worth': 4953, 'opinion': 3133, 'certainly': 710, 'put': 3517, 'dude': 1372, 'dog': 1310, 'hack': 2006, 'strange': 4252, 'obsession': 3086, 'driver': 1358, 'blonde': 477, 'laugh': 2536, 'girlfriend': 1905, 'broken': 564, 'how': 2170, 'stereotypical': 4227, 'wing': 4912, 'politician': 3357, 'trust': 4611, 'talk': 4392, 'mediocre': 2792, 'nuclear': 3070, 'jimmy': 2420, 'carter': 675, 'mission': 2871, 'deep': 1152, 'thick': 4465, 'ice': 2195, 'north': 3052, 'pole': 3351, 'giant': 1899, 'super': 4325, 'communicate': 885, 'monster': 2894, 'vague': 4724, 'among': 168, 'somewhat': 4121, 'crowd': 1058, 'consist': 946, 'spiritual': 4167, 'age': 98, 'type': 4631, 'unlike': 4686, 'accord': 33, 'apparently': 227, 'contain': 956, 'tend': 4430, 'believe': 412, 'frequent': 1817, 'energy': 1480, 'outside': 3169, 'context': 962, 'physic': 3298, 'likely': 2603, 'enjoy': 1488, 'whatever': 4868, 'mostly': 2915, 'touch': 4547, 'physical': 3299, 'universe': 4680, 'ability': 3, 'suspend': 4355, 'disbelief': 1273, 'inane': 2251, 'low': 2670, 'cheesy': 748, 'light': 2599, 'happening': 2031, 'reasonable': 3593, 'recommendation': 3604, 'tonight': 4534, 'personally': 3275, 'saw': 3848, 'theater': 4453, 'expectation': 1591, 'plan': 3322, 'raise': 3546, 'grand': 1949, 'depiction': 1193, 'old': 3116, 'quest': 3525, 'aim': 110, 'step': 4224, 'or': 3139, 'anybody': 214, 'cringe': 1047, 'occasionally': 3093, 'another': 206, 'invisible': 2360, 'roll': 3774, 'insight': 2306, 'painfully': 3196, 'presumably': 3422, 'cinema': 788, 'nature': 2976, 'shot': 3997, 'decent': 1142, 'support': 4334, 'performance': 3266, 'de': 1129, 'affect': 87, 'acceptable': 23, 'el': 1433, 'tail': 4385, 'mood': 2899, 'mock': 2880, 'santa': 3836, 'claus': 808, 'mix': 2875, 'satan': 3840, 'child': 758, 'classic': 806, 'throat': 4490, 'green': 1969, 'door': 1323, 'clever': 814, 'female': 1690, 'attractive': 302, 'sex': 3949, 'hot': 2164, 'ron': 3781, 'jeremy': 2408, 'joe': 2423, 'don': 1317, 'baker': 344, 'walking': 4799, 'tall': 4393, 'justice': 2455, 'humanity': 2179, 'mike': 2836, 'robot': 3765, 'dig': 1247, 'flesh': 1748, 'obvious': 3089, 'mitchell': 2874, 'plenty': 3336, 'choice': 767, 'riff': 3740, 'favorite': 1675, 'sale': 3825, 'texas': 4445, 'ranger': 3557, 'prom': 3470, 'dress': 1351, 'bed': 395, 'son': 4123, 'fat': 1669, 'catch': 687, 'ten': 4428, 'visit': 4776, 'town': 4555, 'wait': 4793, 'accurately': 38, 'christmas': 780, 'richard': 3731, 'paul': 3246, 'send': 3916, 'friend': 1821, 'please': 3333, 'better': 430, 'understand': 4653, 'tiny': 4514, 'as': 265, 'lose': 2653, 'pain': 3194, 'shed': 3972, 'parent': 3217, 'grief': 1972, 'hearted': 2071, 'silliness': 4022, 'diane': 1237, 'keaton': 2466, 'bury': 601, 'unrealistic': 4693, 'short': 3995, 'road': 3756, 'song': 4124, 'bull': 588, 'clear': 811, 'neither': 3000, 'guess': 1990, 'disappoint': 1267, 'appreciation': 234, 'professional': 3462, 'india': 2267, 'shoot': 3990, 'beautifully': 390, 'color': 861, 'alright': 147, 'beauty': 391, 'sequence': 3930, 'stunt': 4280, 'akshay': 116, 'kumar': 2506, 'animation': 197, 'initial': 2294, 'word': 4942, 'lake': 2518, 'mention': 2811, 'nearly': 2985, 'every': 1546, 'min': 2848, 'forget': 1781, 'five': 1738, 'imdb': 2224, 'warn': 4816, 'bother': 513, 'genre': 1884, 'mild': 2837, 'suspense': 4356, 'throughout': 4492, 'ta': 4378, 'felt': 1689, 'embarrass': 1453, 'rea': 3575, 'sorry': 4129, 'excuse': 1579, 'summary': 4318, 'fault': 1673, 'directing': 1258, 'writing': 4966, 'editing': 1416, 'filmmaker': 1714, 'consistent': 947, 'ridiculous': 3738, 'saint': 3823, 'forever': 1780, 'let': 2584, 'order': 3142, 'nick': 3022, 'fred': 1811, 'scrooge': 3884, 'open': 3127, 'toy': 4556, 'along': 144, 'farm': 1658, 'episode': 1511, 'fellow': 1688, 'loser': 2654, 'nod': 3036, 'empathy': 1463, 'ho': 2122, 'massive': 2761, 'neurotic': 3008, 'queen': 3524, 'operation': 3132, 'board': 484, 'bunny': 594, 'pink': 3312, 'boot': 501, 'edge': 1411, 'naughty': 2977, 'list': 2618, 'should': 3998, 'reserve': 3688, 'future': 1847, 'children': 761, 'nope': 3048, 'boy': 524, 'demon': 1179, 'seed': 3903, 'boil': 490, 'simplicity': 4030, 'was': 4823, 'suppose': 4337, 'ridiculously': 3739, 'thankfully': 4448, 'able': 4, 'positive': 3376, 'theory': 4459, 'acknowledge': 44, 'hills': 2107, 'eyes': 1624, 'blatantly': 468, 'sequel': 3929, 'incompetent': 2256, 'fine': 1724, 'remake': 3655, 'truly': 4610, 'frightening': 1827, 'spark': 4147, 'ground': 1983, 'worst': 4952, 'middle': 2831, 'mexico': 2824, 'desert': 1205, 'sadistic': 3816, 'hill': 2106, 'result': 3704, 'military': 2842, 'wander': 4806, 'region': 3630, 'occupy': 3094, 'when': 4872, 'sign': 4016, 'grim': 1974, 'alone': 143, 'bloody': 479, 'fate': 1671, 'genius': 1883, 'realize': 3588, 'exist': 1585, 'office': 3108, 'rush': 3806, 'production': 3459, 'earn': 1396, 'rhyme': 3727, 'unbelievable': 4643, 'unoriginal': 4689, 'killing': 2482, 'slip': 4079, 'originally': 3149, 'alexander': 129, 'craven': 1028, 'cult': 1072, 'unique': 4676, 'thoroughly': 4477, 'disturb': 1300, 'occasion': 3091, 'frank': 1806, 'display': 1290, 'violence': 4768, 'torture': 4543, 'characterization': 728, 'effectively': 1426, 'rehash': 3634, 'style': 4283, 'build': 586, 'tension': 4433, 'gore': 1936, 'tame': 4394, 'compare': 890, 'sad': 3815, 'state': 4212, 'mutant': 2951, 'breed': 545, 'purpose': 3513, 'attention': 298, 'bore': 503, 'bite': 453, 'despite': 1217, 'jump': 2448, 'scary': 3855, 'feel': 1684, 'blood': 478, 'splatter': 4170, 'rape': 3562, 'graphic': 1955, 'birth': 449, 'gross': 1981, 'with': 4923, 'effort': 1427, 'martin': 2753, 'mistake': 2872, 'drain': 1340, 'emotional': 1461, 'shocking': 3987, 'pen': 3255, 'wes': 4861, 'jonathan': 2433, 'possibly': 3381, 'comparison': 891, 'shakespeare': 3959, 'fair': 1638, 'share': 3966, 'unintentionally': 4673, 'joke': 2430, 'dump': 1378, 'studio': 4274, 'pay': 3250, 'win': 4908, 'villain': 4766, 'favor': 1674, 'thought': 4480, 'hate': 2050, 'just': 2454, 'fear': 1679, 'have': 2055, 'tough': 4549, 'generic': 1880, 'plague': 3320, 'stick': 4231, 'vision': 4775, 'because': 392, 'thirty': 4473, 'can': 639, 'strongly': 4270, 'synopsis': 4376, 'nazis': 2980, 'travel': 4584, 'properly': 3479, 'element': 1438, 'remember': 3659, 'south': 4136, 'park': 3219, 'ball': 347, 'link': 2613, 'theme': 4457, 'mess': 2818, 'budget': 583, 'dvd': 1386, 'worse': 4950, 'praise': 3395, 'nazi': 2979, 'painting': 3199, 'creepy': 1043, 'butcher': 609, 'honest': 2139, 'thriller': 4488, 'drama': 1342, 'told': 4527, 'mill': 2844, 'based': 363, 'bar': 353, 'virginia': 4771, 'neck': 2991, 'country': 1010, 'ms': 2932, 'pant': 3210, 'generally': 1877, 'agree': 104, 'predictable': 3402, 'advice': 84, 'hear': 2066, 'relate': 3639, 'nasty': 2970, 'store': 4244, 'confess': 926, 'fast': 1667, 'filler': 1710, 'push': 3516, 'ups': 4705, 'dull': 1376, 'goofy': 1934, 'title': 4520, 'barely': 357, 'burst': 598, 'eating': 1404, 'amongst': 169, 'top': 4538, 'phone': 3291, 'broadcast': 562, 'scratch': 3875, 'print': 3443, 'rub': 3796, 'clothes': 834, 'fashion': 1666, 'three': 4486, 'date': 1118, 'qualify': 3520, 'ahead': 106, 'appearance': 230, 'laughable': 2537, 'fun': 1839, 'drink': 1354, 'disc': 1274, 'player': 3329, 'surprised': 4345, 'pack': 3190, 'bag': 343, 'morning': 2910, 'doom': 1322, 'vhs': 4748, 'tape': 4397, 'sport': 4178, 'classical': 807, 'outrageous': 3167, 'equal': 1513, 'zero': 4993, 'summarize': 4317, 'earth': 1397, 'scientist': 3866, 'discover': 1275, 'planet': 3324, 'later': 2533, 'humble': 2180, 'grow': 1985, 'sell': 3914, 'allow': 140, 'limit': 2606, 'asleep': 271, 'daughter': 1120, 'close': 828, 'happy': 2035, 'relationship': 3641, 'forth': 1790, 'unnecessary': 4688, 'steal': 4220, 'device': 1229, 'increase': 2260, 'create': 1033, 'romance': 3776, 'disappointment': 1270, 'science': 3864, 'flip': 1751, 'folk': 1762, 'does': 1309, 'lung': 2685, 'notice': 3062, 'tom': 4528, 'remark': 3656, 'soundtrack': 4133, 'deadly': 1131, 'wake': 4795, 'edit': 1414, 'choreography': 773, 'prop': 3476, 'etc': 1529, 'contrast': 967, 'silent': 4021, 'black': 456, 'score': 3870, 'drown': 1361, 'meander': 2782, 'ok': 3114, 'speak': 4148, 'pause': 3248, 'hilarious': 2104, 'jazz': 2401, 'dance': 1102, 'strike': 4264, 'editor': 1418, 'footage': 1771, 'thru': 4495, 'daily': 1096, 'segment': 3908, 'break': 539, 'any': 213, 'afford': 89, 'job': 2422, 'everyone': 1549, 'filmed': 1712, 'entirely': 1505, 'chicago': 754, 'small': 4083, 'stiff': 4232, 'high': 2101, 'community': 887, 'noise': 3038, 'nearby': 2984, 'traffic': 4564, 'natural': 2974, 'scenes': 3859, 'contrive': 970, 'choppy': 771, 'span': 4144, 'adult': 77, 'christian': 777, 'large': 2527, 'creator': 1037, 'message': 2819, 'case': 678, 'tie': 4502, 'toss': 4544, 'aside': 269, 'coincidence': 848, 'luckily': 2676, 'believable': 411, 'subsequent': 4290, 'collection': 855, 'hobgoblins': 2123, 'rate': 3567, 'aka': 114, 'hardly': 2038, 'ill': 2211, 'btw': 578, 'october': 3097, 'sleep': 4072, 'dry': 1366, 'wave': 4833, 'amy': 175, 'newman': 3014, 'living': 2627, 'room': 3783, 'running': 3804, 'through': 4491, 'torment': 4541, 'luck': 2675, 'user': 4715, 'ought': 3158, 'afraid': 91, 'spin': 4164, 'wheel': 4871, 'grave': 1959, 'excellent': 1566, 'sum': 4316, 'feeling': 1685, 'dare': 1112, 'clearly': 812, 'deliver': 1171, 'slice': 4073, 'poorly': 3362, 'execute': 1580, 'slapstick': 4067, 'check': 744, 'cop': 987, 'double': 1326, 'disregard': 1291, 'soap': 4101, 'ex': 1558, 'move': 2925, 'bit': 451, 'particularly': 3226, 'cut': 1088, 'out': 3160, 'lousy': 2663, 'bbc': 380, 'sunday': 4321, 'critical': 1051, 'random': 3553, 'stink': 4236, 'applaud': 231, 'about': 7, 'her': 2091, 'crash': 1027, 'dear': 1136, 'since': 4037, 'drift': 1353, 'damn': 1099, 'brothers': 570, 'solo': 4111, 'admittedly': 72, 'rock': 3767, 'mythology': 2959, 'shallow': 3962, 'explore': 1607, 'jaw': 2399, 'unfunny': 4667, 'suggest': 4310, 'aspire': 273, 'table': 4379, 'criticize': 1053, 'crude': 1061, 'exploitation': 1605, 'mainstream': 2711, 'zone': 4998, 'cuba': 1068, 'critique': 1054, 'hire': 2113, 'operate': 3131, 'maniac': 2727, 'doll': 1311, 'difficult': 1245, 'frame': 1801, 'program': 3466, 'kudos': 2505, 'gag': 1852, 'suddenly': 4304, 'stomach': 4240, 'acid': 43, 'neat': 2986, 'imagery': 2219, 'colman': 858, 'ed': 1408, 'wood': 4938, 'screenplay': 3880, 'dvds': 1387, 'buck': 580, 'trashy': 4583, 'price': 3431, 'rip': 3746, 'uninspired': 4671, 'fairly': 1639, 'definition': 1161, 'accent': 21, 'page': 3193, 'literally': 2620, 'perform': 3265, 'english': 1484, 'always': 156, 'schlock': 3861, 'department': 1189, 'minimal': 2853, 'party': 3229, 'single': 4043, 'deal': 1133, 'nudity': 3072, 'naked': 2963, 'outfit': 3164, 'accuse': 39, 'wayne': 4836, 'scott': 3872, 'kansas': 2460, 'charlie': 734, 'identity': 2201, 'smith': 4088, 'jones': 2434, 'entertain': 1499, 'roger': 3771, 'davis': 1124, 'ben': 417, 'murphy': 2942, 'although': 152, 'successful': 4298, 'wise': 4919, 'mary': 2757, 'our': 3159, 'gang': 1859, 'cute': 1089, 'skip': 4062, 'continue': 963, 'sake': 3824, 'parody': 3221, 'obscure': 3082, 'search': 3888, 'era': 1517, 'peter': 3280, 'lifetime': 2597, 'power': 3391, 'easy': 1402, 'third': 4472, 'note': 3060, 'dirty': 1263, 'harry': 2043, 'yeah': 4974, 'nice': 3018, 'current': 1081, 'widmark': 4895, 'veteran': 4747, 'police': 3352, 'animal': 194, 'national': 2972, 'lampoon': 2520, 'attach': 293, 'decline': 1147, 'voice': 4783, 'magazine': 2700, 'slide': 4075, 'brand': 532, 'fee': 1682, 'suck': 4301, 'mine': 2851, 'on': 3121, 'imagine': 2223, 'helen': 2081, 'certain': 709, 'sexuality': 3951, 'curious': 1079, 'process': 3455, 'ebert': 1405, 'warning': 4818, 'virtually': 4772, 'badly': 342, 'caricature': 665, 'ralph': 3547, 'situation': 4054, 'immediately': 2229, 'extreme': 1621, 'be': 381, 'gratuitous': 1958, 'nude': 3071, 'history': 2118, 'hallway': 2016, 'ticket': 4501, 'producer': 3457, 'tackle': 4381, 'subject': 4286, 'execution': 1581, 'dreadful': 1347, 'vein': 4739, 'campy': 638, 'network': 3007, 'examination': 1563, 'childhood': 759, 'tender': 4431, 'hat': 2049, 'memory': 2805, 'tear': 4410, 'recommend': 3603, 'wish': 4920, 'benefit': 420, 'exception': 1569, 'art': 258, 'background': 338, 'nicely': 3019, 'bland': 463, 'rabbit': 3535, 'endear': 1475, 'huge': 2175, 'due': 1374, 'interaction': 2336, 'environment': 1509, 'across': 46, 'gas': 1866, 'horrible': 2154, 'annoy': 204, 'rude': 3800, 'terribly': 4436, 'clock': 826, 'whilst': 4879, 'concept': 918, 'building': 587, 'countryside': 1011, 'conclude': 922, 'eat': 1403, 'sheer': 3973, 'boredom': 505, 'granted': 1954, 'dave': 1121, 'sam': 3829, 'jason': 2398, 'jeff': 2404, 'ethan': 1532, 'blackmail': 457, 'angela': 187, 'appeal': 228, 'target': 4399, 'disgusting': 1283, 'worthless': 4954, 'repulsive': 3680, 'major': 2713, 'utter': 4719, 'comedic': 871, 'accept': 22, 'worthwhile': 4955, 'week': 4849, 'copy': 989, 'rent': 3669, 'movies': 2928, 'computer': 912, 'generate': 1878, 'impose': 2239, 'absolute': 11, 'reasonably': 3594, 'gerard': 1891, 'butler': 610, 'range': 3556, 'anthony': 208, 'brendan': 547, 'rental': 3670, 'rule': 3802, 'thumb': 4498, 'load': 2629, 'foreign': 1778, 'documentary': 1308, 'horrific': 2157, 'annoying': 205, 'plain': 3321, 'master': 2762, 'other': 3155, 'plus': 3339, 'presence': 3414, 'cliche': 818, 'goal': 1923, 'symbolism': 4372, 'resist': 3690, 'non': 3043, 'exchange': 1574, 'lengthy': 2574, 'typical': 4632, 'class': 805, 'substance': 4291, 'regardless': 3629, 'normally': 3051, 'exaggerated': 1562, 'stake': 4192, 'over': 3171, 'punk': 3507, 'who': 4884, 'characters': 729, 'motive': 2920, 'nights': 3028, 'saturday': 3844, 'fever': 1695, 'meaning': 2783, 'flaw': 1745, 'lee': 2564, 'irrelevant': 2371, 'desire': 1209, 'development': 1228, 'steady': 4219, 'stretch': 4262, 'headache': 2062, 'zoom': 4999, 'up': 4700, 'hunter': 2188, 'string': 4266, 'video': 4758, 'twenty': 4624, 'belief': 410, 'trigger': 4598, 'truck': 4608, 'rocket': 3768, 'intelligence': 2327, 'front': 1829, 'finish': 1726, 'pretentious': 3424, 'sexually': 3952, 'horny': 2152, 'paper': 3211, 'bay': 379, 'sorely': 4128, 'water': 4831, 'glimpse': 1914, 'accuracy': 36, 'legend': 2568, 'central': 706, 'legendary': 2569, 'psychic': 3491, 'eccentric': 1406, 'greatly': 1964, 'concentrate': 916, 'marketing': 2744, 'now': 3066, 'today': 4522, 'island': 2375, 'advertising': 83, 'therefore': 4462, 'is': 2374, 'anime': 198, 'remove': 3665, 'merely': 2813, 'sympathetic': 4373, 'secretly': 3897, 'walter': 4804, 'betrayal': 428, 'absent': 10, 'provide': 3487, 'gary': 1865, 'defeat': 1155, 'primary': 3436, 'complaint': 899, 'incomprehensible': 2257, 'dire': 1255, 'confusing': 934, 'hey': 2097, 'beach': 382, 'slaughter': 4069, 'chaos': 722, 'ensue': 1495, 'intention': 2333, 'currently': 1082, 'report': 3676, 'merit': 2814, 'infamous': 2281, 'stewart': 4230, 'doctor': 1306, 'obsess': 3085, 'bat': 372, 'cave': 694, 'once': 3122, 'behave': 404, 'according': 34, 'vampire': 4730, 'us': 4709, 'hospital': 2161, 'medical': 2791, 'interested': 2338, 'seek': 3905, 'again': 97, 'eventually': 1544, 'violent': 4769, 'machine': 2692, 'wife': 4897, 'refuse': 3626, 'dangerous': 1108, 'oddly': 3099, 'develop': 1227, 'towards': 4553, 'had': 2007, 'inexplicably': 2280, 'lady': 2517, 'sheriff': 3978, 'arrange': 252, 'playing': 3330, 'silly': 4023, 'web': 4846, 'ryan': 3812, 'farrell': 1660, 'british': 560, 'disease': 1279, 'smoking': 4090, 'rarely': 3565, 'meat': 2789, 'swear': 4362, 'ugh': 4634, 'trek': 4590, 'minus': 2858, 'stargate': 4207, 'forgettable': 1782, 'dimensional': 1251, 'flat': 1744, 'commercial': 882, 'imagination': 2221, 'alien': 132, 'nation': 2971, 'crazy': 1030, 'closely': 829, 'toilet': 4525, 'whenever': 4873, 'somebody': 4115, 'tarzan': 4400, 'snake': 4092, 'poison': 3348, 'screw': 3882, 'specie': 4152, 'hang': 2026, 'cannibal': 646, 'tribe': 4594, 'bo': 483, 'dad': 1094, 'paint': 3197, 'breast': 541, 'hunt': 2187, 'elephant': 1439, 'african': 93, 'circus': 794, 'smart': 4084, 'motion': 2918, 'rubber': 3797, 'spoilers': 4175, 'alert': 127, 'rescue': 3684, 'jane': 2394, 'fool': 1769, 'monkey': 2891, 'blind': 473, 'amateur': 158, 'study': 4275, 'german': 1892, 'forty': 1793, 'leader': 2555, 'disappointing': 1269, 'loss': 2655, 'faith': 1641, 'regain': 3627, 'church': 784, 'daddy': 1095, 'melodramatic': 2799, 'corner': 992, 'homeless': 2135, 'spirit': 4166, 'condition': 924, 'bright': 554, 'depression': 1196, 'basic': 366, 'gangster': 1860, 'kinda': 2485, 'bounce': 516, 'interview': 2346, 'wrong': 4967, 'arm': 247, 'newspaper': 3016, 'okay': 3115, 'advantage': 80, 'solve': 4113, 'bullet': 589, 'post': 3382, 'underneath': 4651, 'revelation': 3713, 'slick': 4074, 'indie': 2272, 'behavior': 405, 'unpredictable': 4691, 'compelling': 894, 'quirky': 3531, 'recognize': 3602, 'miscast': 2863, 'bizarre': 455, 'relevant': 3647, 'frustration': 1832, 'clichd': 817, 'enter': 1497, 'nurse': 3076, 'patient': 3243, 'hide': 2099, 'strong': 4269, 'deny': 1187, 'examine': 1564, 'quiet': 3530, 'mickey': 2829, 'mouse': 2923, 'motivation': 2919, 'farce': 1656, 'inept': 2277, 'oprah': 3137, 'mile': 2840, 'opportunity': 3134, 'superficial': 4328, 'redeem': 3612, 'court': 1016, 'male': 2719, 'grade': 1944, 'return': 3709, 'simple': 4029, 'overwhelming': 3180, 'greed': 1966, 'inform': 2286, 'television': 4422, 'parade': 3213, 'adolescent': 73, 'lawyer': 2549, 'cash': 679, 'crime': 1045, 'former': 1787, 'candidate': 644, 'society': 4104, 'president': 3418, 'expose': 1609, 'mistress': 2873, 'catholic': 691, 'education': 1420, 'pregnant': 3404, 'prison': 3445, 'numerous': 3074, 'times': 4510, 'wretched': 4963, 'jail': 2390, 'travesty': 4585, 'york': 4985, 'ashamed': 266, 'whats': 4869, 'called': 628, 'rob': 3757, 'peace': 3251, 'trite': 4603, 'seven': 3944, 'ha': 2004, 'carradine': 671, 'whose': 4889, 'attribute': 303, 'supernatural': 4332, 'ireland': 2365, 'dismiss': 1287, 'girls': 1906, 'catchy': 688, 'intrigue': 2348, 'things': 4469, 'maker': 2716, 'trouble': 4606, 'romero': 3779, 'dawn': 1125, 'resident': 3689, 'pure': 3510, 'insert': 2304, 'loosely': 2650, 'captain': 653, 'kirk': 2488, 'originality': 3148, 'prepare': 3410, 'gray': 1961, 'crocodile': 1055, 'witness': 4926, 'compose': 907, 'assault': 276, 'floor': 1753, 'pull': 3500, 'crush': 1065, 'angle': 192, 'law': 2547, 'apply': 232, 'honor': 2143, 'clark': 803, 'downhill': 1331, 'repeat': 3671, 'shootout': 3992, 'laughter': 2540, 'track': 4558, 'mafia': 2699, 'cowboy': 1020, 'neighbor': 2997, 'conclusion': 923, 'fascinating': 1663, 'pat': 3239, 'idiotic': 2203, 'decision': 1144, 'stupidity': 4282, 'randomly': 3554, 'drop': 1360, 'juvenile': 2458, 'warehouse': 4812, 'represent': 3678, 'insane': 2302, 'et': 1528, 'celebrity': 699, 'remotely': 3664, 'connect': 936, 'cruise': 1064, 'yard': 4972, 'public': 3497, 'trial': 4593, 'harsh': 2044, 'ramble': 3549, 'convey': 977, 'important': 2237, 'existence': 1586, 'regret': 3632, 'minimum': 2854, 'stars': 4209, 'awake': 322, 'sarah': 3838, 'michelle': 2828, 'associate': 281, 'spoiler': 4174, 'theatrical': 4455, 'july': 2447, 'tone': 4532, 'uneven': 4659, 'midnight': 2832, 'sun': 4320, 'historic': 2115, 'stereotype': 4226, 'jewish': 2417, 'priest': 3434, 'mexican': 2823, 'horrid': 2156, 'reviewer': 3717, 'austin': 309, 'margaret': 2737, 'southern': 4137, 'expensive': 1594, 'fully': 1838, 'tower': 4554, 'football': 1772, 'september': 3928, 'stroke': 4268, 'letter': 2586, 'jacket': 2387, 'degree': 1164, 'previous': 3428, 'depress': 1194, 'forgive': 1783, 'inhabit': 2291, 'employ': 1468, 'habit': 2005, 'stare': 4206, 'aware': 325, 'retire': 3708, 'photography': 3296, 'western': 4863, 'reputation': 3681, 'courage': 1014, 'offend': 3104, 'insomnia': 2310, 'recently': 3600, 'gem': 1873, 'preview': 3427, 'italian': 2381, 'darkness': 1115, 'fulci': 1835, 'franchise': 1803, 'similarly': 4027, 'handful': 2023, 'frighten': 1826, 'dubbing': 1368, 'notch': 3059, 'ie': 2204, 'ear': 1392, 'recall': 3597, 'research': 3685, 'cinematic': 789, 'experiment': 1596, 'corpse': 997, 'explode': 1603, 'bubble': 579, 'transport': 4580, 'thief': 4466, 'infect': 2282, 'maid': 2707, 'bathroom': 375, 'mirror': 2862, 'wind': 4910, 'within': 4924, 'burn': 595, 'smoke': 4089, 'bird': 448, 'stack': 4187, 'introduction': 2351, 'trail': 4567, 'lean': 2558, 'station': 4215, 'abandon': 1, 'hello': 2085, 'here': 2092, 'encounter': 1472, 'chain': 713, 'wall': 4800, 'swing': 4367, 'peck': 3254, 'cake': 623, 'dust': 1381, 'particular': 3225, 'needless': 2994, 'several': 3946, 'concern': 919, 'village': 4765, 'proceed': 3452, 'meanwhile': 2787, 'earlier': 1394, 'sometimes': 4120, 'foot': 1770, 'kitchen': 2490, 'bridge': 551, 'knowledge': 2498, 'baby': 334, 'proceeds': 3454, 'timeless': 4509, 'officer': 3109, 'chicken': 756, 'your': 4989, 'costume': 1003, 'clothing': 835, 'bruce': 572, 'bump': 592, 'survivor': 4352, 'helicopter': 2082, 'beer': 397, 'popcorn': 3364, 'intend': 2329, 'charm': 736, 'going': 1925, 'valley': 4727, 'annie': 202, 'hall': 2013, 'gone': 1931, 'lawrence': 2548, 'citizen': 795, 'kane': 2459, 'chair': 714, 'paris': 3218, 'latter': 2535, 'dancing': 1104, 'singing': 4042, 'match': 2766, 'rain': 3545, 'fell': 1687, 'butch': 608, 'cassidy': 681, 'blame': 462, 'sympathy': 4375, 'cripple': 1048, 'enjoyable': 1489, 'serve': 3937, 'highlight': 2102, 'tiresome': 4518, 'insulting': 2323, 'reply': 3675, 'appreciate': 233, 'westerns': 4864, 'symbolic': 4371, 'morality': 2904, 'spell': 4159, 'laughably': 2538, 'plant': 3325, 'canyon': 649, 'pas': 3230, 'cattle': 692, 'spot': 4179, 'distance': 1292, 'opera': 3130, 'conflict': 929, 'market': 2743, 'cow': 1019, 'chew': 753, 'worthy': 4956, 'dud': 1371, 'watching': 4830, 'potential': 3385, 'surprisingly': 4347, 'cliff': 820, 'exciting': 1578, 'cent': 704, 'happens': 2032, 'global': 1915, 'warming': 4814, 'al': 117, 'promote': 3473, 'discussion': 1278, 'debate': 1138, 'dollar': 1312, 'scientific': 3865, 'lucky': 2677, 'remain': 3653, 'stray': 4255, 'einstein': 1431, 'advance': 78, 'surely': 4340, 'shore': 3994, 'ring': 3743, 'lommel': 2640, 'average': 319, 'ultimately': 4638, 'mall': 2720, 'shell': 3975, 'superior': 4330, 'artsy': 263, 'depict': 1192, 'beginning': 403, 'masterpiece': 2764, 'handle': 2024, 'precisely': 3399, 'invent': 2353, 'absence': 9, 'contribution': 969, 'combination': 866, 'overly': 3178, 'ambitious': 164, 'joan': 2421, 'jay': 2400, 'severely': 3948, 'airplane': 112, 'river': 3754, 'directorial': 1262, 'weak': 4838, 'sea': 3885, 'hapless': 2029, 'billy': 444, 'crystal': 1067, 'debut': 1140, 'protagonist': 3482, 'mildly': 2838, 'retarded': 3707, 'pour': 3388, 'dislike': 1285, 'strand': 4251, 'lifestyle': 2596, 'unreal': 4692, 'combat': 865, 'sniper': 4096, 'sergeant': 3931, 'civilian': 798, 'camp': 635, 'confrontation': 931, 'resemblance': 3686, 'unit': 4677, 'contrary': 966, 'wild': 4898, 'incoherent': 2255, 'melissa': 2797, 'constant': 950, 'nightmare': 3027, 'importance': 2236, 'scare': 3852, 'steve': 4228, 'carpenter': 669, 'killer': 2481, 'rat': 3566, 'hidden': 2098, 'turd': 4617, 'gift': 1900, 'host': 2162, 'london': 2641, 'club': 838, 'mini': 2852, 'bin': 445, 'alongside': 145, 'east': 1400, 'mr': 2930, 'size': 4057, 'genuinely': 1888, 'uk': 4636, 'wont': 4936, 'inaccurate': 2250, 'firm': 1728, 'underground': 4650, 'direct': 1256, 'reference': 3621, 'overlook': 3177, 'owner': 3184, 'notorious': 3064, 'ban': 348, 'amateurish': 159, 'ride': 3736, 'whereas': 4875, 'awfully': 330, 'formula': 1788, 'trio': 4600, 'dysfunctional': 1390, 'quickly': 3529, 'heroine': 2095, 'interact': 2335, 'inhabitant': 2292, 'cue': 1071, 'horrendous': 2153, 'overact': 3172, 'resort': 3693, 'fill': 1709, 'dreary': 1349, 'contest': 960, 'ace': 40, 'unexpected': 4660, 'ingenious': 2288, 'taste': 4402, 'mouth': 2924, 'register': 3631, 'wipe': 4916, 'glad': 1909, 'hotel': 2165, 'factor': 1630, 'estate': 1527, 'servant': 3936, 'spooky': 4177, 'bleed': 470, 'restaurant': 3702, 'desperate': 1212, 'rise': 3748, 'forgotten': 1784, 'closing': 833, 'amusing': 174, 'steven': 4229, 'seagal': 3886, 'shelf': 3974, 'entrance': 1507, 'sci': 3863, 'fi': 1697, 'argue': 243, 'tank': 4395, 'form': 1785, 'revenge': 3714, 'distribute': 1296, 'unsuspecting': 4696, 'dealer': 1134, 'dub': 1367, 'enthusiasm': 1503, 'ya': 4971, 'coherent': 847, 'gon': 1930, 'na': 2960, 'judge': 2441, 'impossible': 2240, 'position': 3375, 'abuse': 17, 'interrupt': 2345, 'guest': 1991, 'closeup': 832, 'reaction': 3578, 'battle': 377, 'weight': 4851, 'hurt': 2189, 'fancy': 1652, 'success': 4297, 'interpretation': 2344, 'deeply': 1153, 'respect': 3695, 'marriage': 2746, 'prefer': 3403, 'website': 4847, 'information': 2287, 'self': 3912, 'health': 2064, 'june': 2449, 'private': 3447, 'wedding': 4848, 'gather': 1869, 'quit': 3532, 'personal': 3273, 'phil': 3286, 'ego': 1428, 'compel': 893, 'shaw': 3970, 'kung': 2507, 'most': 2914, 'feat': 1680, 'thin': 4467, 'impressive': 2244, 'ship': 3983, 'enhance': 1486, 'tune': 4615, 'nomination': 3042, 'sexual': 3950, 'suggestion': 4311, 'error': 1520, 'unfair': 4662, 'rex': 3725, 'reminiscent': 3662, 'dinosaur': 1254, 'shall': 3961, 'evident': 1553, 'rely': 3652, 'cultural': 1073, 'commentary': 881, 'spanish': 4145, 'europeans': 1537, 'function': 1840, 'convince': 980, 'capable': 651, 'lure': 2686, 'temple': 4426, 'intent': 2332, 'native': 2973, 'achievement': 42, 'warrior': 4821, 'romantic': 3777, 'trick': 4596, 'consume': 954, 'alter': 149, 'component': 906, 'religion': 3649, 'analyze': 178, 'wicked': 4891, 'noble': 3034, 'translate': 4577, 'instance': 2317, 'ignorant': 2207, 'meant': 2786, 'ian': 2194, 'jim': 2419, 'creature': 1038, 'teeth': 4421, 'sincerely': 4039, 'belong': 414, 'category': 689, 'crappy': 1026, 'memorable': 2804, 'method': 2822, 'speaker': 4149, 'australian': 311, 'stan': 4197, 'speech': 4157, 'preach': 3397, 'prize': 3448, 'australia': 310, 'activity': 50, 'heard': 2067, 'poster': 3383, 'clip': 825, 'vile': 4764, 'cousin': 1017, 'arthur': 259, 'angel': 186, 'organize': 3144, 'shop': 3993, 'pose': 3374, 'credible': 1040, 'pump': 3502, 'corny': 993, 'introduce': 2350, 'appal': 224, 'subplots': 4289, 'reflect': 3622, 'cameo': 631, 'greg': 1970, 'heavily': 2075, 'lock': 2634, 'via': 4749, 'jackie': 2388, 'chan': 718, 'ritchie': 3751, 'has': 2048, 'ninja': 3032, 'skill': 4059, 'greek': 1968, 'empire': 1467, 'prepared': 3411, 'pocket': 3340, 'chop': 770, 'rap': 3561, 'sole': 4108, 'states': 4214, 'cameraman': 633, 'difference': 1243, 'dennis': 1185, 'contribute': 968, 'distinct': 1294, 'appalling': 225, 'descent': 1202, 'madness': 2696, 'clumsy': 841, 'poe': 3341, 'cardboard': 658, 'somewhere': 4122, 'plastic': 3326, 'melt': 2801, 'shoe': 3989, 'react': 3577, 'excess': 1572, 'confuse': 932, 'dismal': 1286, 'thus': 4499, 'scheme': 3860, 'yawn': 4973, 'issue': 2379, 'air': 111, 'traditional': 4563, 'indeed': 2264, 'convention': 973, 'accompany': 31, 'intense': 2330, 'makeup': 2717, 'tense': 4432, 'psychological': 3493, 'slasher': 4068, 'likewise': 2604, 'cinematographer': 790, 'tribute': 4595, 'hitchcock': 2120, 'noir': 3037, 'settle': 3942, 'couch': 1004, 'scar': 3851, 'borrow': 508, 'achieve': 41, 'rubbish': 3798, 'batman': 376, 'rachel': 3537, 'objective': 3080, 'tho': 4475, 'me': 2780, 'under': 4649, 'rotten': 3789, 'criticism': 1052, 'women': 4932, 'exercise': 1583, 'patience': 3242, 'clean': 810, 'shark': 3967, 'halloween': 2015, 'johnny': 2427, 'spiral': 4165, 'pit': 3314, 'pacing': 3188, 'yellow': 4979, 'steam': 4221, 'gap': 1861, 'cable': 618, 'sight': 4015, 'brown': 571, 'vincent': 4767, 'johnson': 2428, 'trace': 4557, 'visible': 4774, 'before': 399, 'explicit': 1602, 'depressing': 1195, 'inside': 2305, 'campaign': 636, 'chick': 755, 'imo': 2232, 'thats': 4451, 'nowadays': 3067, 'virus': 4773, 'equivalent': 1516, 'robbery': 3759, 'con': 913, 'illegal': 2212, 'social': 4103, 'chat': 739, 'invite': 2361, 'definitive': 1162, 'service': 3938, 'shut': 4007, 'misleading': 2868, 'declare': 1146, 'glorify': 1916, 'youth': 4990, 'inconsistent': 2258, 'offering': 3107, 'scenario': 3856, 'born': 507, 'sensitive': 3922, 'core': 991, 'blend': 471, 'linger': 2612, 'lift': 2598, 'clichs': 819, 'substitute': 4292, 'adapt': 59, 'chemistry': 749, 'attraction': 301, 'essential': 1524, 'whether': 4876, 'confidence': 927, 'turner': 4621, 'independence': 2265, 'demonstrate': 1182, 'brilliance': 555, 'magic': 2702, 'eight': 1429, 'comical': 876, 'agony': 103, 'wrestler': 4962, 'stream': 4256, 'bible': 436, 'biblical': 437, 'hilariously': 2105, 'depend': 1191, 'ah': 105, 'weird': 4852, 'dose': 1325, 'lynch': 2689, 'twin': 4626, 'peak': 3252, 'hitler': 2121, 'shred': 4006, 'lighting': 2600, 'disney': 1288, 'correct': 998, 'foster': 1795, 'simplistic': 4031, 'directly': 1260, 'ending': 1476, 'corruption': 1001, 'heck': 2077, 'angels': 189, 'training': 4570, 'premise': 3409, 'eliminate': 1443, 'competent': 896, 'portion': 3370, 'emphasize': 1466, 'smash': 4085, 'partner': 3228, 'spite': 4169, 'silver': 4024, 'beast': 385, 'christians': 778, 'left': 2565, 'christ': 776, 'medium': 2793, 'trap': 4581, 'option': 3138, 'produce': 3456, 'tool': 4537, 'download': 1332, 'cant': 648, 'superb': 4326, 'masterful': 2763, 'flawless': 1746, 'apart': 221, 'lip': 2616, 'animate': 195, 'realism': 3585, 'fantasy': 1654, 'kurt': 2509, 'thomas': 4476, 'united': 4678, 'inevitably': 2279, 'solely': 4109, 'derive': 1200, 'dragon': 1339, 'martial': 2750, 'absurd': 14, 'fu': 1833, 'assistant': 280, 'baddie': 341, 'nostalgic': 3055, 'grudge': 1986, 'essentially': 1525, 'inspector': 2311, 'gadget': 1851, 'popularity': 3366, 'miserably': 2865, 'revive': 3718, 'tragic': 4566, 'adams': 58, 'anymore': 215, 'cold': 849, 'heaven': 2074, 'pal': 3201, 'penny': 3257, 'speed': 4158, 'rebellious': 3596, 'bear': 383, 'spring': 4181, 'descend': 1201, 'pretend': 3423, 'eddie': 1409, 'thrust': 4496, 'holiday': 2127, 'barry': 359, 'join': 2429, 'extra': 1619, 'agency': 99, 'having': 2056, 'require': 3682, 'disappear': 1266, 'advise': 85, 'pound': 3387, 'flag': 1740, 'observe': 3084, 'model': 2882, 'wire': 4917, 'map': 2735, 'guinness': 1996, 'reign': 3636, 'cain': 621, 'disgust': 1282, 'empty': 1470, 'format': 1786, 'lol': 2639, 'poetry': 3344, 'pitiful': 3316, 'hopeless': 2149, 'scenery': 3858, 'ham': 2017, 'slight': 4076, 'revolve': 3722, 'vast': 4736, 'mansion': 2733, 'wealthy': 4841, 'widow': 4896, 'menace': 2807, 'safety': 3820, 'faithful': 1642, 'grasp': 1956, 'seat': 3890, 'cube': 1070, 'fantastic': 1653, 'paranoia': 3216, 'perfectly': 3264, 'purely': 3511, 'nerd': 3003, 'clone': 827, 'threaten': 4485, 'alcohol': 124, 'minor': 2857, 'sneak': 4095, 'loving': 2669, 'prisoner': 3446, 'neighborhood': 2998, 'teach': 4407, 'manipulative': 2729, 'bug': 585, 'spielberg': 4162, 'disaster': 1271, 'scoop': 3868, 'hugh': 2176, 'promising': 3472, 'ghost': 1897, 'lord': 2651, 'card': 657, 'prostitute': 3481, 'magician': 2705, 'woody': 4941, 'amazingly': 162, 'construct': 952, 'seduce': 3901, 'powerful': 3392, 'relation': 3640, 'tight': 4505, 'imitate': 2225, 'elderly': 1435, 'cheat': 743, 'punish': 3505, 'screening': 3879, 'dolph': 1313, 'lundgren': 2684, 'murray': 2943, 'wilson': 4907, 'alcoholic': 125, 'serial': 3932, 'investigation': 2358, 'mail': 2708, 'humour': 2184, 'terrorist': 4441, 'contemporary': 958, 'favour': 1676, 'divorce': 1302, 'mom': 2886, 'metaphor': 2821, 'cheese': 747, 'puppet': 3508, 'labor': 2514, 'illusion': 2215, 'watchable': 4829, 'damage': 1098, 'manner': 2732, 'oil': 3113, 'cleverly': 815, 'offensive': 3105, 'punch': 3504, 'stage': 4190, 'sing': 4040, 'cap': 650, 'coming': 877, 'off': 3102, 'stock': 4239, 'astonish': 284, 'downey': 1330, 'inappropriate': 2252, 'barbara': 354, 'feed': 1683, 'abortion': 6, 'homosexual': 2137, 'academy': 20, 'jerk': 2409, 'psychology': 3494, 'repetitive': 3673, 'phrase': 3297, 'latin': 2534, 'helmet': 2086, 'cg': 711, 'tunnel': 4616, 'century': 708, 'gay': 1870, 'kitty': 2491, 'swim': 4366, 'technique': 4414, 'creative': 1035, 'unable': 4639, 'stale': 4193, 'tire': 4516, 'instinct': 2321, 'fresh': 1819, 'perspective': 3276, 'grotesque': 1982, 'bus': 602, 'games': 1857, 'russia': 3808, 'train': 4569, 'politics': 3358, 'individual': 2273, 'cell': 700, 'plausible': 3327, 'porno': 3369, 'pad': 3192, 'tiger': 4504, 'treasure': 4586, 'gruesome': 1987, 'tourist': 4551, 'crawl': 1029, 'mad': 2694, 'statue': 4216, 'clay': 809, 'larry': 2529, 'onto': 3126, 'meryl': 2816, 'wolf': 4930, 'credibility': 1039, 'ludicrous': 2679, 'odd': 3098, 'mute': 2952, 'genuine': 1887, 'wet': 4865, 'laughing': 2539, 'lost': 2656, 'kingdom': 2487, 'derek': 1199, 'notion': 3063, 'skit': 4063, 'welcome': 4853, 'snl': 4097, 'setting': 3941, 'rival': 3753, 'matrix': 2769, 'previously': 3429, 'unseen': 4694, 'lesbian': 2579, 'fade': 1632, 'separate': 3927, 'heavy': 2076, 'metal': 2820, 'band': 350, 'werewolf': 4860, 'mask': 2758, 'guarantee': 1988, 'rare': 3564, 'product': 3458, 'discuss': 1277, 'sadness': 3818, 'population': 3367, 'israeli': 2378, 'evidence': 1552, 'parallel': 3214, 'teenager': 4420, 'prevent': 3426, 'selfish': 3913, 'bomber': 495, 'angry': 193, 'meeting': 2795, 'understanding': 4655, 'freedom': 1814, 'weakness': 4839, 'admirable': 68, 'proper': 3478, 'representation': 3679, 'utterly': 4720, 'essence': 1523, 'suitable': 4314, 'musician': 2947, 'homosexuality': 2138, 'wide': 4892, 'happily': 2033, 'misfortune': 2867, 'drivel': 1357, 'their': 4456, 'encourage': 1473, 'basis': 369, 'follower': 1764, 'flashback': 1743, 'halfway': 2012, 'loud': 2660, 'artistic': 262, 'craft': 1023, 'survive': 4351, 'pursue': 3514, 'stalker': 4195, 'sappy': 3837, 'plight': 3337, 'poke': 3349, 'hole': 2126, 'occur': 3095, 'matthew': 2773, 'shoulder': 3999, 'practically': 3393, 'key': 2474, 'salvage': 3828, 'finger': 1725, 'weekend': 4850, 'vain': 4725, 'pie': 3305, 'kids': 2479, 'fiction': 1699, 'warm': 4813, 'worker': 4944, 'psychiatrist': 3490, 'expert': 1598, 'analysis': 177, 'le': 2553, 'minister': 2856, 'lust': 2688, 'whip': 4882, 'skinny': 4061, 'butt': 611, 'snuff': 4099, 'engross': 1485, 'redemption': 3614, 'norm': 3049, 'proud': 3485, 'influence': 2284, 'buzz': 614, 'continuity': 964, 'stranger': 4254, 'sensible': 3921, 'spectacular': 4156, 'largely': 2528, 'tour': 4550, 'protect': 3483, 'vicious': 4752, 'treatment': 4588, 'transform': 4574, 'suspicious': 4358, 'awkward': 332, 'gradually': 1945, 'sub': 4285, 'center': 705, 'whiny': 4881, 'pervert': 3278, 'exterior': 1618, 'filming': 1713, 'location': 2633, 'strangely': 4253, 'climax': 822, 'antic': 209, 'desk': 1210, 'clerk': 813, 'recognition': 3601, 'wound': 4958, 'apartment': 222, 'modern': 2883, 'attract': 300, 'outright': 3168, 'narrative': 2968, 'structure': 4271, 'distract': 1295, 'arrive': 255, 'emerge': 1457, 'remarkably': 3658, 'ordinary': 3143, 'broadway': 563, 'years': 4977, 'swallow': 4361, 'yearn': 4976, 'impression': 2243, 'unattractive': 4640, 'rear': 3591, 'nine': 3030, 'irritate': 2372, 'visuals': 4779, 'balance': 346, 'fifteen': 1703, 'relatively': 3643, 'unbelievably': 4644, 'wars': 4822, 'episodes': 1512, 'float': 1752, 'rope': 3786, 'proceeding': 3453, 'flower': 1757, 'french': 1816, 'painter': 3198, 'unlikely': 4687, 'niece': 3025, 'besides': 424, 'precious': 3398, 'finale': 1719, 'furthermore': 1845, 'sinatra': 4036, 'tony': 4535, 'detective': 1223, 'compete': 895, 'dean': 1135, 'matt': 2770, 'bond': 496, 'competition': 897, 'von': 4787, 'howard': 2171, 'fond': 1766, 'inspiration': 2312, 'update': 4701, 'nose': 3053, 'everybody': 1547, 'evidently': 1554, 'define': 1158, 'incident': 2253, 'exaggerate': 1561, 'industry': 2276, 'simon': 4028, 'reject': 3638, 'liner': 2611, 'sudden': 4303, 'tempt': 4427, 'cream': 1031, 'shave': 3969, 'wan': 4805, 'gain': 1853, 'instant': 2318, 'response': 3698, 'spoof': 4176, 'dr': 1335, 'storm': 4245, 'demonic': 1180, 'jigsaw': 2418, 'puzzle': 3518, 'basement': 364, 'sellers': 3915, 'curse': 1083, 'racial': 3538, 'sinister': 4045, 'per': 3260, 'warmth': 4815, 'moving': 2929, 'possibility': 3379, 'strength': 4260, 'convincingly': 982, 'witty': 4927, 'burt': 599, 'crisis': 1049, 'venture': 4741, 'favourite': 1677, 'clue': 839, 'brady': 528, 'england': 1483, 'gory': 1938, 'both': 512, 'topless': 4540, 'blatant': 467, 'whoever': 4885, 'imaginable': 2220, 'insect': 2303, 'surprising': 4346, 'rampage': 3552, 'each': 1391, 'racism': 3539, 'which': 4877, 'description': 1204, 'africa': 92, 'until': 4697, 'jackson': 2389, 'carrie': 673, 'fisher': 1734, 'bash': 365, 'worry': 4949, 'universal': 4679, 'sink': 4046, 'failure': 1637, 'glory': 1918, 'intentionally': 2334, 'shove': 4001, 'profound': 3465, 'literature': 2622, 'spice': 4161, 'improve': 2245, 'myers': 2955, 'scottish': 3873, 'spike': 4163, 'shooting': 3991, 'reporter': 3677, 'speaking': 4150, 'jerry': 2410, 'springer': 4182, 'guide': 1993, 'transplant': 4579, 'accurate': 37, 'suicide': 4312, 'eleven': 1442, 'practice': 3394, 'tasteless': 4403, 'tube': 4614, 'horse': 2160, 'square': 4185, 'hippie': 2112, 'religious': 3650, 'raid': 3544, 'cabin': 617, 'culture': 1074, 'brilliantly': 557, 'evoke': 1556, 'incorporate': 2259, 'madonna': 2697, 'burton': 600, 'hopelessly': 2150, 'circle': 792, 'disturbing': 1301, 'fascination': 1664, 'combine': 867, 'unsettling': 4695, 'brave': 534, 'puerto': 3499, 'poverty': 3389, 'proof': 3475, 'denzel': 1188, 'shortly': 3996, 'prime': 3437, 'doc': 1305, 'edition': 1417, 'abc': 2, 'four': 1797, 'pool': 3360, 'closet': 831, 'designer': 1208, 'excessive': 1573, 'ripoff': 3747, 'arrogant': 256, 'absorb': 13, 'meaningless': 2785, 'nerve': 3004, 'rural': 3805, 'moronic': 2912, 'questionable': 3527, 'experimental': 1597, 'narration': 2967, 'convincing': 981, 'secretary': 3896, 'circumstance': 793, 'dish': 1284, 'shower': 4004, 'canadian': 641, 'fund': 1841, 'sitcom': 4052, 'murky': 2941, 'wildly': 4901, 'uncomfortable': 4646, 'outdated': 3162, 'rough': 3790, 'molly': 2885, 'mature': 2774, 'wreck': 4961, 'identify': 2200, 'drinking': 1355, 'psycho': 3492, 'colonel': 859, 'fortunately': 1791, 'awesome': 328, 'gorgeous': 1937, 'catherine': 690, 'dudley': 1373, 'liam': 2590, 'quarter': 3523, 'friday': 1820, 'uplifting': 4702, 'split': 4172, 'lover': 2668, 'sentiment': 3924, 'fest': 1693, 'indians': 2269, 'titanic': 4519, 'hudson': 2174, 'commit': 883, 'dynamic': 1389, 'pacino': 3189, 'filthy': 1717, 'ordeal': 3141, 'stalk': 4194, 'shining': 3982, 'hateful': 2051, 'signal': 4017, 'content': 959, 'wonderful': 4934, 'wtf': 4968, 'defend': 1156, 'unwatchable': 4699, 'bush': 603, 'blair': 460, 'bowl': 520, 'akin': 115, 'vocal': 4782, 'timmy': 4512, 'artwork': 264, 'photo': 3293, 'subtle': 4294, 'grace': 1943, 'homer': 2136, 'buddy': 582, 'charles': 733, 'fame': 1647, 'leslie': 2580, 'reverse': 3715, 'complain': 898, 'abusive': 18, 'retard': 3706, 'curtis': 1084, 'ken': 2470, 'psychotic': 3496, 'loose': 2649, 'twisted': 4628, 'initially': 2295, 'creep': 1042, 'colorful': 862, 'adventure': 81, 'salt': 3827, 'tripe': 4602, 'sword': 4369, 'item': 2383, 'giallo': 1898, 'seeing': 3904, 'dinner': 1253, 'slimy': 4078, 'pet': 3279, 'companion': 888, 'unpleasant': 4690, 'wilderness': 4900, 'aid': 108, 'robin': 3763, 'williams': 4904, 'confirm': 928, 'maintain': 2712, 'more': 2907, 'exploration': 1606, 'delve': 1175, 'bored': 504, 'roth': 3788, 'glance': 1911, 'colleague': 853, 'warrant': 4819, 'installment': 2316, 'news': 3015, 'valuable': 4728, 'mgm': 2825, 'turkey': 4618, 'taylor': 4405, 'busy': 606, 'heel': 2078, 'eve': 1539, 'oscar': 3152, 'supporting': 4336, 'property': 3480, 'jean': 2403, 'fabulous': 1626, 'fox': 1799, 'prey': 3430, 'farmer': 1659, 'heist': 2080, 'wrap': 4960, 'complex': 902, 'jewel': 2416, 'added': 62, 'bonus': 498, 'despicable': 1215, 'muslims': 2949, 'conservative': 942, 'willing': 4905, 'west': 4862, 'mental': 2808, 'elsewhere': 1450, 'multiple': 2935, 'locate': 2632, 'security': 3900, 'session': 3939, 'garden': 1864, 'openly': 3129, 'waitress': 4794, 'dancer': 1103, 'dream': 1348, 'being': 409, 'staff': 4188, 'los': 2652, 'angeles': 188, 'assume': 282, 'showing': 4005, 'homage': 2133, 'cure': 1077, 'gold': 1926, 'coast': 843, 'digital': 1248, 'preposterous': 3412, 'roberts': 3762, 'relief': 3648, 'bob': 487, 'drone': 1359, 'surreal': 4348, 'heal': 2063, 'wash': 4824, 'rank': 3559, 'jesus': 2414, 'challenge': 715, 'alas': 120, 'compliment': 905, 'formulaic': 1789, 'quote': 3534, 'justify': 2456, 'invasion': 2352, 'iraq': 2364, 'nicholas': 3020, 'cage': 619, 'chip': 766, 'pan': 3208, 'jessica': 2413, 'blond': 476, 'owen': 3182, 'andy': 185, 'false': 1646, 'spare': 4146, 'sexy': 3953, 'nelson': 3001, 'asian': 268, 'succeed': 4296, 'successfully': 4299, 'thrill': 4487, 'motif': 2917, 'extended': 1616, 'free': 1813, 'petty': 3281, 'lindsay': 2609, 'arrest': 253, 'audition': 306, 'eternal': 1530, 'triumph': 4604, 'flame': 1741, 'worm': 4948, 'enemy': 1479, 'princess': 3440, 'bet': 426, 'authority': 316, 'humiliate': 2181, 'edith': 1415, 'prior': 3444, 'cook': 983, 'conventional': 974, 'sicken': 4011, 'pair': 3200, 'cynical': 1091, 'artificial': 260, 'chuck': 782, 'league': 2557, 'baseball': 362, 'protest': 3484, 'weapon': 4842, 'alex': 128, 'movement': 2926, 'cancel': 642, 'season': 3889, 'grant': 1953, 'stance': 4198, 'overcome': 3175, 'concerned': 920, 'missile': 2870, 'danger': 1107, 'revolution': 3720, 'troubled': 4607, 'firstly': 1731, 'satire': 3841, 'blunt': 482, 'connery': 938, 'confusion': 935, 'author': 315, 'replace': 3674, 'ford': 1777, 'six': 4055, 'duo': 1379, 'fix': 1739, 'kidnap': 2478, 'rider': 3737, 'equally': 1514, 'wit': 4921, 'inner': 2298, 'sibling': 4009, 'flow': 1756, 'thanks': 4449, 'brutal': 574, 'jennifer': 2406, 'stephen': 4225, 'lang': 2525, 'filth': 1716, 'atrocity': 292, 'sketch': 4058, 'superhero': 4329, 'gut': 2000, 'virgin': 4770, 'ironically': 2369, 'stiller': 4234, 'knock': 2496, 'clarke': 804, 'caliber': 625, 'karen': 2462, 'pleasantly': 3332, 'san': 3833, 'francisco': 1804, 'sf': 3954, 'district': 1299, 'sutherland': 4360, 'purchase': 3509, 'extend': 1615, 'behold': 408, 'worlds': 4947, 'rendition': 3668, 'translation': 4578, 'mechanical': 2790, 'shoddy': 3988, 'purple': 3512, 'wasted': 4827, 'mighty': 2834, 'rangers': 3558, 'fx': 1849, 'technical': 4411, 'vibrant': 4750, 'international': 2341, 'subtitle': 4293, 'lazy': 2552, 'corrupt': 1000, 'vulnerable': 4790, 'pictures': 3304, 'path': 3240, 'nut': 3077, 'defense': 1157, 'blank': 465, 'sleazy': 4071, 'uncle': 4645, 'korean': 2501, 'assign': 278, 'naturally': 2975, 'vital': 4780, 'grin': 1975, 'text': 4446, 'capital': 652, 'anna': 200, 'slightly': 4077, 'stilted': 4235, 'martha': 2749, 'excited': 1576, 'invest': 2356, 'trip': 4601, 'cloud': 836, 'bride': 550, 'birthday': 450, 'afternoon': 95, 'surf': 4341, 'gordon': 1935, 'satisfying': 3843, 'press': 3419, 'weave': 4845, 'heston': 2096, 'woo': 4937, 'downright': 1333, 'overdone': 3176, 'label': 2513, 'reel': 3618, 'ape': 223, 'idiot': 2202, 'par': 3212, 'screenwriter': 3881, 'actors': 52, 'mixed': 2876, 'uwe': 4721, 'boll': 492, 'flop': 1754, 'lion': 2614, 'gate': 1868, 'films': 1715, 'exposition': 1610, 'manipulate': 2728, 'tax': 4404, 'exploit': 1604, 'trend': 4592, 'uncover': 4648, 'guilty': 1995, 'leonard': 2578, 'battlefield': 378, 'those': 4478, 'bust': 605, 'whoopi': 4888, 'millionaire': 2847, 'launch': 2541, 'duck': 1370, 'boom': 500, 'suspenseful': 4357, 'narrator': 2969, 'screaming': 3877, 'skull': 4064, 'terrify': 4438, 'fright': 1825, 'marion': 2741, 'nervous': 3005, 'portrait': 3371, 'occasional': 3092, 'will': 4902, 'imitation': 2226, 'germans': 1893, 'troop': 4605, 'beverly': 432, 'icon': 2196, 'rocky': 3769, 'resolve': 3692, 'concert': 921, 'responsibility': 3699, 'blast': 466, 'choke': 768, 'silence': 4020, 'connection': 937, 'urge': 4708, 'pursuit': 3515, 'alley': 138, 'snap': 4093, 'melodrama': 2798, 'broad': 561, 'subtlety': 4295, 'lovable': 2664, 'lecture': 2563, 'punishment': 3506, 'roy': 3794, 'reduce': 3616, 'mere': 2812, 'sidekick': 4013, 'regular': 3633, 'partly': 3227, 'macabre': 2691, 'pace': 3186, 'verge': 4742, 'pamela': 3207, 'bargain': 358, 'passing': 3235, 'cope': 988, 'william': 4903, 'fury': 1846, 'complicate': 904, 'abysmal': 19, 'lab': 2512, 'sue': 4305, 'disgrace': 1280, 'tremendous': 4591, 'carl': 666, 'animated': 196, 'namely': 2965, 'firmly': 1729, 'outrage': 3166, 'saga': 3821, 'recruit': 3609, 'romeo': 3778, 'difficulty': 1246, 'juliet': 2446, 'passable': 3232, 'entirety': 1506, 'louis': 2661, 'unaware': 4641, 'cemetery': 702, 'funeral': 1842, 'handsome': 2025, 'leap': 2559, 'cheer': 746, 'ramones': 3551, 'equipment': 1515, 'lend': 2572, 'gothic': 1940, 'cushing': 1086, 'foul': 1796, 'luke': 2681, 'duke': 1375, 'jesse': 2412, 'shine': 3981, 'moral': 2903, 'safe': 3819, 'rebel': 3595, 'loyalty': 2673, 'hellip': 2084, 'bollywood': 493, 'suspect': 4354, 'gear': 1871, 'strictly': 4263, 'rogers': 3772, 'logan': 2635, 'same': 3830, 'alternate': 150, 'gritty': 1980, 'jet': 2415, 'executive': 1582, 'mraovich': 2931, 'shin': 3980, 'assemble': 277, 'toward': 4552, 'ally': 141, 'shade': 3955, 'palm': 3204, 'loyal': 2672, 'viewing': 4762, 'paltrow': 3206, 'sky': 4065, 'polly': 3359, 'acclaim': 30, 'donna': 1319, 'frustrating': 1831, 'thousand': 4482, 'recover': 3607, 'stun': 4278, 'consistently': 948, 'magical': 2703, 'generation': 1879, 'magnificent': 2706, 'streep': 4257, 'glenn': 1913, 'illogical': 2214, 'amrita': 171, 'dominate': 1315, 'engage': 1481, 'irony': 2370, 'elizabeth': 1445, 'embrace': 1456, 'bacon': 339, 'sebastian': 3891, 'caine': 622, 'enjoyment': 1490, 'mel': 2796, 'brooks': 567, 'fourth': 1798, 'spain': 4143, 'outcome': 3161, 'bergman': 421, 'excite': 1575, 'dreck': 1350, 'grind': 1977, 'expertly': 1599, 'ginger': 1903, 'irish': 2366, 'improvement': 2246, 'freddy': 1812, 'rod': 3770, 'ladder': 2516, 'nancy': 2966, 'elm': 1447, 'intriguing': 2349, 'legal': 2567, 'dutch': 1383, 'document': 1307, 'fictional': 1700, 'departure': 1190, 'assist': 279, 'diamond': 1235, 'humorous': 2183, 'premier': 3406, 'adequate': 67, 'savage': 3845, 'pulp': 3501, 'realm': 3590, 'philip': 3287, 'boat': 486, 'lester': 2583, 'kenneth': 2472, 'outline': 3165, 'anderson': 181, 'upper': 4704, 'celebrate': 697, 'sidney': 4014, 'miracle': 2860, 'sharp': 3968, 'alison': 134, 'despise': 1216, 'conversation': 975, 'elevator': 1441, 'fifty': 1704, 'longer': 2646, 'incredible': 2262, 'china': 764, 'horrify': 2158, 'gal': 1854, 'engaging': 1482, 'celebration': 698, 'potter': 3386, 'principal': 3441, 'secondly': 3894, 'reynolds': 3726, 'miami': 2826, 'fortune': 1792, 'frequently': 1818, 'expedition': 1592, 'agenda': 100, 'zombies': 4997, 'predecessor': 3400, 'lugosi': 2680, 'dorothy': 1324, 'claire': 801, 'victor': 4754, 'devil': 1230, 'vice': 4751, 'smell': 4086, 'expense': 1593, 'honesty': 2141, 'promptly': 3474, 'innocence': 2299, 'albert': 122, 'stanley': 4201, 'alice': 131, 'walker': 4798, 'lens': 2576, 'comfort': 873, 'cruelty': 1063, 'comprise': 910, 'ethnic': 1533, 'reed': 3617, 'desperately': 1213, 'feminist': 1691, 'griffith': 1973, 'cruel': 1062, 'counterpart': 1008, 'domestic': 1314, 'restore': 3703, 'dignity': 1249, 'confront': 930, 'render': 3667, 'deem': 1151, 'teacher': 4408, 'bikini': 440, 'nina': 3029, 'hartley': 2046, 'russell': 3807, 'worship': 4951, 'ad': 56, 'monty': 2898, 'senseless': 3919, 'explosion': 1608, 'mixture': 2877, 'clown': 837, 'round': 3791, 'corps': 996, 'monitor': 2889, 'lethal': 2585, 'la': 2511, 'wagner': 4792, 'hood': 2144, 'necessity': 2990, 'sentimental': 3925, 'mario': 2740, 'tacky': 4382, 'dont': 1320, 'finance': 1721, 'suffers': 4308, 'vulgar': 4789, 'bell': 413, 'junior': 2451, 'beating': 387, 'carpet': 670, 'married': 2747, 'pearl': 3253, 'chuckle': 783, 'performer': 3267, 'grate': 1957, 'fighter': 1706, 'squad': 4184, 'saving': 3847, 'few': 1696, 'dash': 1117, 'upset': 4706, 'indian': 2268, 'philosophical': 3289, 'select': 3910, 'predict': 3401, 'shout': 4000, 'celluloid': 701, 'got': 1939, 'lots': 2658, 'scrap': 3874, 'correctly': 999, 'arrow': 257, 'bow': 519, 'boys': 526, 'gimmick': 1902, 'redneck': 3615, 'nostalgia': 3054, 'pin': 3311, 'importantly': 2238, 'ensure': 1496, 'fails': 1636, 'attenborough': 296, 'desperation': 1214, 'friends': 1823, 'admirer': 70, 'royal': 3795, 'navy': 2978, 'fighting': 1707, 'sophisticated': 4126, 'retain': 3705, 'deck': 1145, 'alike': 133, 'chorus': 774, 'lane': 2524, 'cigarette': 786, 'cheek': 745, 'unfortunate': 4665, 'unknown': 4682, 'chris': 775, 'blah': 459, 'calm': 629, 'freeman': 1815, 'danny': 1111, 'bless': 472, 'dracula': 1337, 'frankenstein': 1807, 'joseph': 2435, 'julie': 2445, 'andrew': 183, 'stark': 4208, 'polish': 3354, 'russian': 3809, 'disagree': 1265, 'impressed': 2242, 'similarity': 4026, 'bobby': 488, 'relative': 3642, 'lewis': 2588, 'exotic': 1588, 'trilogy': 4599, 'seventy': 3945, 'illustrate': 2216, 'attitude': 299, 'mentality': 2809, 'positively': 3377, 'gene': 1875, 'carol': 668, 'grainy': 1948, 'dee': 1149, 'rick': 3734, 'guard': 1989, 'necessary': 2989, 'sens': 3917, 'following': 1765, 'contemplate': 957, 'blake': 461, 'primarily': 3435, 'miles': 2841, 'collaboration': 851, 'fart': 1661, 'dan': 1101, 'grandmother': 1952, 'strain': 4250, 'embarrassing': 1454, 'owe': 3181, 'ninety': 3031, 'altman': 153, 'lumet': 2682, 'macy': 2693, 'altogether': 154, 'moore': 2902, 'ndash': 2982, 'impact': 2233, 'mann': 2731, 'fare': 1657, 'integrity': 2325, 'object': 3079, 'adam': 57, 'outstanding': 3170, 'sissy': 4049, 'yesterday': 4981, 'laura': 2542, 'anywhere': 220, 'hanks': 2028, 'hank': 2027, 'stellar': 4223, 'rapist': 3563, 'sandler': 3834, 'passenger': 3234, 'babe': 333, 'afterwards': 96, 'quick': 3528, 'hideous': 2100, 'severe': 3947, 'canada': 640, 'gender': 1874, 'colour': 863, 'secure': 3899, 'joey': 2425, 'comfortable': 874, 'comeback': 869, 'immediate': 2228, 'rid': 3735, 'household': 2168, 'bitter': 454, 'him': 2108, 'reward': 3723, 'coach': 842, 'row': 3793, 'tap': 4396, 'unexpectedly': 4661, 'candy': 645, 'careful': 661, 'toronto': 4542, 'token': 4526, 'washington': 4825, 'snow': 4098, 'disguise': 1281, 'starter': 4211, 'lyric': 2690, 'significance': 4018, 'deliberately': 1166, 'sings': 4044, 'facial': 1628, 'beard': 384, 'moody': 2900, 'composition': 908, 'sensibility': 3920, 'alec': 126, 'basinger': 368, 'captivate': 654, 'unforgettable': 4664, 'healthy': 2065, 'woods': 4940, 'echo': 1407, 'mutual': 2953, 'stumble': 4277, 'lonely': 2644, 'exit': 1587, 'passionate': 3237, 'breathe': 543, 'miserable': 2864, 'notable': 3057, 'ray': 3573, 'portrayal': 3373, 'champion': 717, 'wholly': 4887, 'bette': 429, 'nail': 2961, 'arc': 239, 'rave': 3571, 'indication': 2271, 'testament': 4444, 'inability': 2248, 'banal': 349, 'shaky': 3960, 'murderer': 2938, 'ultimate': 4637, 'evolve': 1557, 'myth': 2958, 'industrial': 2275, 'considering': 945, 'lone': 2642, 'commander': 879, 'joel': 2424, 'boxing': 523, 'guys': 2002, 'tea': 4406, 'forest': 1779, 'beware': 433, 'bruno': 573, 'jess': 2411, 'franco': 1805, 'delivery': 1174, 'fairy': 1640, 'notably': 3058, 'nominate': 3041, 'brazil': 537, 'logical': 2637, 'appropriately': 237, 'bum': 591, 'brad': 527, 'zodiac': 4995, 'ironic': 2368, 'audio': 305, 'tarantino': 4398, 'automatically': 317, 'glover': 1919, 'brenda': 546, 'lloyd': 2628, 'magically': 2704, 'stress': 4261, 'forced': 1776, 'volume': 4785, 'demented': 1177, 'status': 4217, 'valentine': 4726, 'pacific': 3187, 'reunion': 3710, 'implausible': 2234, 'professor': 3463, 'holly': 2129, 'ignorance': 2206, 'drum': 1363, 'guitar': 1997, 'authentic': 313, 'days': 1128, 'widescreen': 4894, 'hal': 2010, 'dated': 1119, 'journey': 2438, 'discovery': 1276, 'drunken': 1365, 'reminder': 3661, 'satisfy': 3842, 'timing': 4511, 'fianc': 1698, 'leo': 2577, 'dawson': 1126, 'priceless': 3432, 'olivier': 3118, 'addict': 63, 'stab': 4186, 'fascist': 1665, 'glow': 1920, 'omen': 3120, 'mountain': 2922, 'susan': 4353, 'alfred': 130, 'increasingly': 2261, 'golden': 1928, 'hong': 2142, 'brainless': 530, 'vegas': 4737, 'unusual': 4698, 'nuance': 3069, 'concentration': 917, 'storytelling': 4248, 'extent': 1617, 'determine': 1224, 'phenomenon': 3285, 'inspired': 2314, 'specific': 4153, 'spectacle': 4155, 'striking': 4265, 'lucy': 2678, 'becomes': 394, 'oscars': 3153, 'deed': 1150, 'cameron': 634, 'emperor': 1464, 'obstacle': 3087, 'rewrite': 3724, 'ai': 107, 'exhibit': 1584, 'scope': 3869, 'inferior': 2283, 'winner': 4913, 'colony': 860, 'consequence': 941, 'enlighten': 1491, 'urban': 4707, 'bleak': 469, 'landscape': 2523, 'vietnam': 4759, 'haunt': 2053, 'psyche': 3489, 'victory': 4757, 'stallone': 4196, 'photograph': 3294, 'official': 3110, 'rag': 3542, 'orgy': 3145, 'destruction': 1220, 'fist': 1735, 'heartbreaking': 2070, 'pleasant': 3331, 'heartwarming': 2072, 'scotland': 3871, 'civil': 797, 'progress': 3468, 'drab': 1336, 'stag': 4189, 'japan': 2395, 'roommate': 3784, 'nephew': 3002, 'pun': 3503, 'beloved': 415, 'corporate': 994, 'demons': 1181, 'boss': 510, 'overblown': 3174, 'border': 502, 'scared': 3854, 'insightful': 2307, 'kidman': 2477, 'nicole': 3024, 'trade': 4560, 'sentinel': 3926, 'directed': 1257, 'douglas': 1328, 'rings': 3744, 'rita': 3750, 'cannon': 647, 'transition': 4576, 'anyways': 219, 'variety': 4733, 'respond': 3697, 'mass': 2759, 'generous': 1881, 'grandfather': 1950, 'march': 2736, 'terror': 4440, 'california': 626, 'given': 1908, 'monologue': 2893, 'comedian': 870, 'lily': 2605, 'mid': 2830, 'evening': 1541, 'richards': 3732, 'manhattan': 2726, 'childish': 760, 'conceive': 915, 'net': 3006, 'perceive': 3261, 'ward': 4811, 'arise': 246, 'choreograph': 772, 'pressure': 3420, 'sarcastic': 3839, 'stylish': 4284, 'goldberg': 1927, 'todd': 4523, 'measure': 2788, 'confused': 933, 'chaotic': 723, 'pilot': 3310, 'profit': 3464, 'censor': 703, 'undoubtedly': 4658, 'contract': 965, 'ned': 2992, 'thrown': 4494, 'despair': 1211, 'considerable': 944, 'louise': 2662, 'poignant': 3345, 'delight': 1168, 'hepburn': 2090, 'injury': 2296, 'brutality': 575, 'cinderella': 787, 'height': 2079, 'mermaid': 2815, 'atlantis': 288, 'supporter': 4335, 'walt': 4803, 'shape': 3965, 'fog': 1761, 'chill': 762, 'harvey': 2047, 'demand': 1176, 'eventual': 1543, 'investigator': 2359, 'accidentally': 29, 'yell': 4978, 'limited': 2607, 'tip': 4515, 'kelly': 2469, 'georges': 1890, 'dickens': 1240, 'persona': 3272, 'admire': 69, 'shy': 4008, 'necessarily': 2988, 'terrific': 4437, 'charming': 737, 'touching': 4548, 'arnold': 250, 'hawke': 2057, 'ingredient': 2289, 'section': 3898, 'immature': 2227, 'inherit': 2293, 'britain': 559, 'prequel': 3413, 'milk': 2843, 'pro': 3449, 'josh': 2436, 'zane': 4991, 'grey': 1971, 'cooper': 986, 'tag': 4384, 'iv': 2385, 'marlon': 2745, 'brando': 533, 'lois': 2638, 'pride': 3433, 'amanda': 157, 'adaptation': 60, 'auteur': 312, 'isolation': 2376, 'climactic': 821, 'nicholson': 3021, 'wendy': 4858, 'shelley': 3976, 'duvall': 1385, 'drew': 1352, 'murderous': 2939, 'scooby': 3867, 'doo': 1321, 'hbo': 2059, 'ashley': 267, 'soft': 4106, 'tad': 4383, 'pitch': 3315, 'camcorder': 630, 'basket': 370, 'amusement': 173, 'sustain': 4359, 'sabrina': 3813, 'trait': 4571, 'chinese': 765, 'factory': 1631, 'museum': 2944, 'wealth': 4840, 'nicolas': 3023, 'fish': 1732, 'selection': 3911, 'paramount': 3215, 'shift': 3979, 'chaplin': 724, 'jamie': 2393, 'beneath': 419, 'germany': 1894, 'mode': 2881, 'manager': 2724, 'delightful': 1169, 'excitement': 1577, 'wizard': 4928, 'establish': 1526, 'thrilling': 4489, 'provoke': 3488, 'button': 612, 'pray': 3396, 'liotta': 2615, 'elite': 1444, 'setup': 3943, 'stunning': 4279, 'backdrop': 337, 'obtain': 3088, 'robber': 3758, 'bank': 352, 'entry': 1508, 'uniform': 4669, 'grandma': 1951, 'looking': 2648, 'lower': 2671, 'vary': 4735, 'deniro': 1183, 'adorable': 75, 'brutally': 576, 'announce': 203, 'psychopath': 3495, 'thug': 4497, 'premiere': 3407, 'sin': 4035, 'gasp': 1867, 'imaginative': 2222, 'martians': 2752, 'bind': 446, 'morally': 2905, 'crook': 1056, 'orson': 3151, 'welles': 4855, 'tyler': 4630, 'eric': 1518, 'kathryn': 2465, 'delivers': 1173, 'library': 2593, 'curiosity': 1078, 'jar': 2397, 'fitting': 1737, 'technically': 4412, 'misery': 2866, 'mayor': 2778, 'photographer': 3295, 'angie': 191, 'assassination': 275, 'assassin': 274, 'cia': 785, 'jon': 2432, 'hoffman': 2124, 'stardom': 4204, 'newcomer': 3012, 'ruthless': 3811, 'symbol': 4370, 'remarkable': 3657, 'raw': 3572, 'album': 123, 'graveyard': 1960, 'disorder': 1289, 'therapy': 4460, 'alliance': 139, 'clint': 824, 'eastwood': 1401, 'participant': 3223, 'breath': 542, 'conscience': 940, 'pattern': 3245, 'airport': 113, 'historically': 2117, 'invention': 2354, 'suffering': 4307, 'morbid': 2906, 'darker': 1114, 'melting': 2802, 'counter': 1007, 'unlikable': 4685, 'moreover': 2908, 'secondary': 3893, 'aaron': 0, 'nyc': 3078, 'riot': 3745, 'underrated': 4652, 'danes': 1106, 'distribution': 1297, 'breakfast': 540, 'awhile': 331, 'manages': 2725, 'bedroom': 396, 'edgar': 1410, 'rice': 3729, 'literary': 2621, 'unfold': 4663, 'drawing': 1345, 'philosophy': 3290, 'transfer': 4573, 'youngster': 4988, 'hammer': 2020, 'rose': 3787, 'sandra': 3835, 'greedy': 1967, 'taking': 4388, 'centre': 707, 'miike': 2835, 'takashi': 4386, 'supply': 4333, 'falk': 1644, 'aunt': 307, 'university': 4681, 'femme': 1692, 'meaningful': 2784, 'daniel': 1109, 'miranda': 2861, 'ritter': 3752, 'friendship': 1824, 'taboo': 4380, 'understated': 4656, 'elegant': 1437, 'recreate': 3608, 'neatly': 2987, 'hardcore': 2037, 'demise': 1178, 'danish': 1110, 'offbeat': 3103, 'newly': 3013, 'contact': 955, 'blade': 458, 'collector': 856, 'transformation': 4575, 'pleased': 3334, 'mate': 2767, 'sunshine': 4324, 'sailor': 3822, 'harm': 2041, 'wells': 4856, 'locale': 2631, 'timothy': 4513, 'hines': 2109, 'kennedy': 2471, 'brick': 549, 'april': 238, 'await': 321, 'advanced': 79, 'layer': 2551, 'eerie': 1423, 'ala': 118, 'enormous': 1492, 'france': 1802, 'inevitable': 2278, 'ease': 1398, 'muriel': 2940, 'sunny': 4322, 'swedish': 4363, 'phillip': 3288, 'mildred': 2839, 'mob': 2879, 'attend': 297, 'monkeys': 2892, 'creativity': 1036, 'asylum': 286, 'climb': 823, 'lincoln': 2608, 'slave': 4070, 'diary': 1238, 'pfeiffer': 3282, 'frankie': 1808, 'kornbluth': 2502, 'albeit': 121, 'mtv': 2933, 'sympathize': 4374, 'dentist': 1186, 'basketball': 371, 'kapoor': 2461, 'exceptionally': 1571, 'crown': 1059, 'shake': 3958, 'iii': 2210, 'lemmon': 2570, 'piano': 3301, 'wallace': 4801, 'ocean': 3096, 'reunite': 3711, 'charlotte': 735, 'emily': 1458, 'der': 1198, 'deaf': 1132, 'behaviour': 406, 'dedicate': 1148, 'duty': 1384, 'info': 2285, 'max': 2775, 'compromise': 911, 'ram': 3548, 'eyre': 1625, 'rochester': 3766, 'dalton': 1097, 'were': 4859, 'glue': 1921, 'unhappy': 4668, 'educate': 1419, 'creation': 1034, 'sincere': 4038, 'samurai': 3832, 'thoughtful': 4481, 'bath': 374, 'henry': 2089, 'lou': 2659, 'hatred': 2052, 'fuel': 1834, 'bernard': 423, 'reid': 3635, 'diana': 1236, 'futuristic': 1848, 'internal': 2340, 'enterprise': 1498, 'earl': 1393, 'bourne': 518, 'beetle': 398, 'exceptional': 1570, 'creasy': 1032, 'submit': 4287, 'jeffrey': 2405, 'emotionally': 1462, 'oz': 3185, 'lena': 2571, 'twelve': 4623, 'someday': 4116, 'judgment': 2442, 'caretaker': 664, 'spit': 4168, 'hung': 2186, 'tradition': 4562, 'devote': 1232, 'elsa': 1448, 'access': 25, 'tick': 4500, 'presentation': 3416, 'wwe': 4969, 'spade': 4142, 'martian': 2751, 'clan': 802, 'delicious': 1167, 'breathtaking': 544, 'trademark': 4561, 'grinch': 1976, 'vengeance': 4740, 'prejudice': 3405, 'roof': 3782, 'characteristic': 727, 'fatal': 1670, 'rerun': 3683, 'joker': 2431, 'preminger': 3408, 'whale': 4866, 'authenticity': 314, 'principle': 3442, 'bud': 581, 'reflection': 3623, 'mundane': 2936, 'expand': 1589, 'quantum': 3522, 'craig': 1024, 'collect': 854, 'nun': 3075, 'accidental': 28, 'walken': 4797, 'israel': 2377, 'weather': 4844, 'wonderfully': 4935, 'heroic': 2094, 'sweep': 4364, 'awards': 324, 'disastrous': 1272, 'comprehend': 909, 'rhythm': 3728, 'closer': 830, 'marty': 2754, 'bos': 509, 'graham': 1947, 'bacall': 335, 'rage': 3543, 'vader': 4723, 'liberty': 2592, 'cusack': 1085, 'dy': 1388, 'uniformly': 4670, 'bates': 373, 'innovative': 2301, 'insurance': 2324, 'julia': 2444, 'victorian': 4756, 'fragile': 1800, 'lunch': 2683, 'remains': 3654, 'recommended': 3605, 'cuban': 1069, 'verhoeven': 4743, 'extraordinary': 1620, 'failed': 1635, 'overwhelm': 3179, 'friendly': 1822, 'refresh': 3624, 'arrival': 254, 'respective': 3696, 'andre': 182, 'soprano': 4127, 'furious': 1844, 'befriend': 400, 'betray': 427, 'curly': 1080, 'bravo': 536, 'neglect': 2996, 'bend': 418, 'custom': 1087, 'anticipate': 210, 'aids': 109, 'reluctant': 3651, 'complexity': 903, 'illness': 2213, 'survival': 4350, 'alternative': 151, 'compassion': 892, 'union': 4675, 'election': 1436, 'atmospheric': 290, 'programme': 3467, 'exquisite': 1614, 'rifle': 3741, 'seldom': 3909, 'sixty': 4056, 'defy': 1163, 'lucas': 2674, 'castle': 684, 'haunting': 2054, 'nbc': 2981, 'sir': 4047, 'relax': 3644, 'jenny': 2407, 'chief': 757, 'poker': 3350, 'crucial': 1060, 'austen': 308, 'domino': 1316, 'knightley': 2495, 'immense': 2230, 'transcend': 4572, 'absurdity': 15, 'resolution': 3691, 'elvis': 1452, 'flee': 1747, 'collapse': 852, 'sunrise': 4323, 'cher': 750, 'kyle': 2510, 'corporation': 995, 'phantom': 3283, 'smooth': 4091, 'assure': 283, 'spy': 4183, 'intimate': 2347, 'eva': 1538, 'columbo': 864, 'profanity': 3460, 'jr': 2440, 'vampires': 4731, 'stir': 4238, 'vacation': 4722, 'additional': 65, 'palma': 3205, 'boston': 511, 'soviet': 4138, 'florida': 1755, 'soccer': 4102, 'understandable': 4654, 'ambition': 163, 'deer': 1154, 'hart': 2045, 'conduct': 925, 'maggie': 2701, 'morris': 2913, 'ellen': 1446, 'abraham': 8, 'faster': 1668, 'palace': 3202, 'victoria': 4755, 'chilling': 763, 'detailed': 1222, 'burning': 596, 'adopt': 74, 'enthral': 1502, 'morgan': 2909, 'justin': 2457, 'snatch': 4094, 'graduate': 1946, 'cbs': 695, 'christine': 779, 'interpret': 2343, 'winter': 4915, 'donald': 1318, 'emma': 1459, 'lively': 2626, 'marvelous': 2756, 'liu': 2624, 'whine': 4880, 'vivid': 4781, 'aforementioned': 90, 'preserve': 3417, 'elvira': 1451, 'financial': 1722, 'distributor': 1298, 'wendigo': 4857, 'relentless': 3646, 'robinson': 3764, 'inspiring': 2315, 'carla': 667, 'detract': 1225, 'randy': 3555, 'awe': 327, 'bike': 439, 'observation': 3083, 'reader': 3580, 'temper': 4425, 'wax': 4834, 'garbo': 1863, 'hamilton': 2018, 'branagh': 531, 'bully': 590, 'hamlet': 2019, 'grip': 1978, 'destiny': 1218, 'ruth': 3810, 'malone': 2721, 'tracy': 4559, 'thread': 4483, 'preston': 3421, 'pitt': 3317, 'working': 4945, 'geisha': 1872, 'conviction': 979, 'showcase': 4003, 'unleash': 4683, 'coat': 844, 'policy': 3353, 'hardship': 2039, 'bread': 538, 'simultaneously': 4034, 'terry': 4442, 'exposure': 1611, 'eighty': 1430, 'glorious': 1917, 'prince': 3439, 'marie': 2739, 'powell': 3390, 'guilt': 1994, 'laurence': 2544, 'fishburne': 1733, 'fonda': 1767, 'genie': 1882, 'perfection': 3263, 'profession': 3461, 'debt': 1139, 'melody': 2800, 'subplot': 4288, 'enable': 1471, 'coup': 1012, 'kline': 2492, 'lush': 2687, 'frustrate': 1830, 'marvel': 2755, 'chess': 751, 'quaid': 3519, 'scarecrow': 3853, 'bakshi': 345, 'hopper': 2151, 'paxton': 3249, 'surpass': 4343, 'laurel': 2543, 'hardy': 2040, 'ollie': 3119, 'stair': 4191, 'galaxy': 1855, 'disabled': 1264, 'conan': 914, 'montana': 2896, 'drake': 1341, 'emphasis': 1465, 'boxer': 522, 'italy': 2382, 'carrey': 672, 'damon': 1100, 'anton': 211, 'renaissance': 3666, 'roman': 3775, 'tenant': 4429, 'injustice': 2297, 'perry': 3270, 'publish': 3498, 'lisa': 2617, 'yeti': 4983, 'maria': 2738, 'turmoil': 4619, 'berlin': 422, 'pepper': 3259, 'odds': 3100, 'richardson': 3733, 'voight': 4784, 'ted': 4416, 'elevate': 1440, 'inventive': 2355, 'housewife': 2169, 'wilder': 4899, 'pirate': 3313, 'bound': 517, 'civilization': 799, 'tomorrow': 4530, 'acceptance': 24, 'distant': 1293, 'romp': 3780, 'sammo': 3831, 'wisdom': 4918, 'lennon': 2575, 'gillian': 1901, 'accessible': 26, 'chamberlain': 716, 'hearing': 2068, 'nolte': 3040, 'panic': 3209, 'ensemble': 1494, 'versus': 4745, 'kurosawa': 2508, 'cox': 1021, 'stanwyck': 4202, 'enigmatic': 1487, 'intensity': 2331, 'superbly': 4327, 'landmark': 2522, 'casper': 680, 'affection': 88, 'dread': 1346, 'monk': 2890, 'zizek': 4994, 'li': 2589, 'darren': 1116, 'sullivan': 4315, 'karloff': 2463, 'raymond': 3574, 'ruby': 3799, 'miniseries': 2855, 'cary': 677, 'jake': 2391, 'willis': 4906, 'knight': 2494, 'tierney': 4503, 'convict': 978, 'jules': 2443, 'din': 1252, 'brooklyn': 566, 'glamorous': 1910, 'poem': 3342, 'ingrid': 2290, 'bronte': 565, 'widely': 4893, 'modesty': 2884, 'biko': 441, 'dev': 1226, 'burns': 597, 'cal': 624, 'ustinov': 4716, 'lavish': 2546, 'lately': 2532, 'ariel': 245, 'watson': 4832, 'winning': 4914, 'miyazaki': 2878, 'technicolor': 4413, 'mesmerize': 2817, 'hyde': 2191, 'brosnan': 568, 'cunningham': 1075, 'greatness': 1965, 'palance': 3203, 'immigrant': 2231, 'denis': 1184, 'holmes': 2131, 'rivet': 3755, 'gesture': 1895, 'splendid': 4171, 'flynn': 1759, 'contestant': 961, 'deliverance': 1172, 'dandy': 1105, 'carell': 663, 'educational': 1421, 'refreshing': 3625, 'loneliness': 2643, 'hayworth': 2058, 'trier': 4597, 'gentle': 1885, 'davies': 1123, 'nolan': 3039, 'zenia': 4992, 'coop': 985, 'gripping': 1979, 'andrews': 184, 'gackt': 1850, 'sho': 3985, 'shanghai': 3964, 'delightfully': 1170, 'abu': 16, 'braveheart': 535, 'fuller': 1837, 'paulie': 3247, 'armstrong': 248, 'cagney': 620, 'orleans': 3150, 'wang': 4807, 'dustin': 1382, 'campbell': 637, 'reiser': 3637, 'mclaglen': 2779, 'excellently': 1567, 'laurie': 2545, 'chavez': 740, 'bsg': 577, 'reeve': 3619, 'corbett': 990, 'edie': 1413, 'haines': 2008, 'kriemhild': 2503, 'goldsworthy': 1929, 'europa': 1534, 'dixon': 1303, 'gypo': 2003, 'othello': 3154, 'bettie': 431, 'stardust': 4205, 'shahid': 3957, 'gundam': 1999, 'yokai': 4984, 'sox': 4139, 'felix': 1686, 'sirk': 4048, 'winchester': 4909, 'antwone': 212, 'masterson': 2765, 'fido': 1701, 'fagin': 1633, 'alvin': 155, 'matthau': 2772, 'ratso': 3570, 'cypher': 1092, 'grayson': 1962, 'blandings': 464, 'korda': 2500}\n"
     ]
    }
   ],
   "source": [
    "vect = TfidfVectorizer(max_features = 5000)\n",
    "vect.fit(df3['Avis'])\n",
    "\n",
    "Train_X_vect = vect.transform(Train_X)\n",
    "Test_X_vect = vect.transform(Test_X)\n",
    "\n",
    "print(vect.vocabulary_)"
   ]
  },
  {
   "cell_type": "markdown",
   "metadata": {},
   "source": [
    "### ML algorithms\n",
    "---\n",
    "#### Naive Bayes"
   ]
  },
  {
   "cell_type": "code",
   "execution_count": 10,
   "metadata": {},
   "outputs": [
    {
     "name": "stdout",
     "output_type": "stream",
     "text": [
      "NB accuracy ->  48.13333333333333 %\n"
     ]
    }
   ],
   "source": [
    "Naive = naive_bayes.MultinomialNB()\n",
    "Naive.fit(Train_X_vect, Train_Y)\n",
    "\n",
    "res_NB = Naive.predict(Test_X_vect)\n",
    "\n",
    "print(\"NB accuracy -> \", accuracy_score(res_NB, Test_Y)*100, \"%\")"
   ]
  },
  {
   "cell_type": "markdown",
   "metadata": {},
   "source": [
    "#### SVM"
   ]
  },
  {
   "cell_type": "code",
   "execution_count": 11,
   "metadata": {},
   "outputs": [
    {
     "name": "stdout",
     "output_type": "stream",
     "text": [
      "SVM accuracy ->  47.5 %\n"
     ]
    }
   ],
   "source": [
    "SVM = svm.SVC(C = 1.0, kernel = 'linear', degree = 3, gamma = 'auto')\n",
    "SVM.fit(Train_X_vect, Train_Y)\n",
    "\n",
    "res_SVM = SVM.predict(Test_X_vect)\n",
    "\n",
    "print(\"SVM accuracy -> \", accuracy_score(res_SVM, Test_Y)*100, \"%\")"
   ]
  }
 ],
 "metadata": {
  "kernelspec": {
   "display_name": "Python 3",
   "language": "python",
   "name": "python3"
  },
  "language_info": {
   "codemirror_mode": {
    "name": "ipython",
    "version": 3
   },
   "file_extension": ".py",
   "mimetype": "text/x-python",
   "name": "python",
   "nbconvert_exporter": "python",
   "pygments_lexer": "ipython3",
   "version": "3.6.7"
  }
 },
 "nbformat": 4,
 "nbformat_minor": 2
}
